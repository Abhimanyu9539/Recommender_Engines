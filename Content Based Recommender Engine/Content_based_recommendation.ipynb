{
 "cells": [
  {
   "cell_type": "markdown",
   "id": "6a03d125",
   "metadata": {
    "id": "employed-million"
   },
   "source": [
    "#  Installing and Importing the Required Libraries"
   ]
  },
  {
   "cell_type": "code",
   "execution_count": 1,
   "id": "8cb8bed4",
   "metadata": {
    "id": "46691639"
   },
   "outputs": [],
   "source": [
    "#Importing the libraries\n",
    "\n",
    "import pandas as pd\n",
    "from sklearn.feature_extraction.text import CountVectorizer\n",
    "from sklearn.metrics.pairwise import cosine_similarity, manhattan_distances, euclidean_distances\n",
    "from sklearn.feature_extraction.text import TfidfVectorizer\n",
    "import re\n",
    "from gensim import models\n",
    "import numpy as np\n",
    "import matplotlib.pyplot as plt\n",
    "import matplotlib.style\n",
    "%matplotlib inline\n",
    "from gensim.models import FastText as ft\n",
    "from IPython.display import Image"
   ]
  },
  {
   "cell_type": "markdown",
   "id": "9a2d0f64",
   "metadata": {
    "id": "uniform-cutting"
   },
   "source": [
    "# Links to download required word embeddings"
   ]
  },
  {
   "cell_type": "markdown",
   "id": "bb221a82",
   "metadata": {
    "id": "computational-departure"
   },
   "source": [
    "\n",
    "#### download w2v\n",
    " gdown https://drive.google.com/file/d/1LDdF6M6VzNhXfJyqb1OXLWno8TrExg6o/view?usp=sharing\n",
    "\n",
    "#### download glove\n",
    " wget https://drive.google.com/file/d/1P9JFZ43Id9dXOo_xFpqLkx81jOsXrQC0/view?usp=sharing\n",
    "\n",
    "#### download fastext\n",
    "fasttext https://drive.google.com/file/d/1hgb-kxJzFkcktsxBEpthmCxzlwe_IM6o/view?usp=sharing"
   ]
  },
  {
   "cell_type": "markdown",
   "id": "13aa2c1d",
   "metadata": {
    "id": "executive-paris"
   },
   "source": [
    "#  Importing the data"
   ]
  },
  {
   "cell_type": "code",
   "execution_count": 2,
   "id": "42845a78",
   "metadata": {
    "id": "fitting-buddy"
   },
   "outputs": [
    {
     "data": {
      "text/html": [
       "<div>\n",
       "<style scoped>\n",
       "    .dataframe tbody tr th:only-of-type {\n",
       "        vertical-align: middle;\n",
       "    }\n",
       "\n",
       "    .dataframe tbody tr th {\n",
       "        vertical-align: top;\n",
       "    }\n",
       "\n",
       "    .dataframe thead th {\n",
       "        text-align: right;\n",
       "    }\n",
       "</style>\n",
       "<table border=\"1\" class=\"dataframe\">\n",
       "  <thead>\n",
       "    <tr style=\"text-align: right;\">\n",
       "      <th></th>\n",
       "      <th>StockCode</th>\n",
       "      <th>Product Name</th>\n",
       "      <th>Description</th>\n",
       "      <th>Category</th>\n",
       "      <th>Brand</th>\n",
       "      <th>Unit Price</th>\n",
       "    </tr>\n",
       "  </thead>\n",
       "  <tbody>\n",
       "    <tr>\n",
       "      <th>0</th>\n",
       "      <td>22629</td>\n",
       "      <td>Ganma Superheroes Ordinary Life Case For Samsu...</td>\n",
       "      <td>New unique design, great gift.High quality pla...</td>\n",
       "      <td>Cell Phones|Cellphone Accessories|Cases &amp; Prot...</td>\n",
       "      <td>Ganma</td>\n",
       "      <td>13.99</td>\n",
       "    </tr>\n",
       "    <tr>\n",
       "      <th>1</th>\n",
       "      <td>21238</td>\n",
       "      <td>Eye Buy Express Prescription Glasses Mens Wome...</td>\n",
       "      <td>Rounded rectangular cat-eye reading glasses. T...</td>\n",
       "      <td>Health|Home Health Care|Daily Living Aids</td>\n",
       "      <td>Eye Buy Express</td>\n",
       "      <td>19.22</td>\n",
       "    </tr>\n",
       "    <tr>\n",
       "      <th>2</th>\n",
       "      <td>22181</td>\n",
       "      <td>MightySkins Skin Decal Wrap Compatible with Ni...</td>\n",
       "      <td>Each Nintendo 2DS kit is printed with super-hi...</td>\n",
       "      <td>Video Games|Video Game Accessories|Accessories...</td>\n",
       "      <td>Mightyskins</td>\n",
       "      <td>14.99</td>\n",
       "    </tr>\n",
       "    <tr>\n",
       "      <th>3</th>\n",
       "      <td>84879</td>\n",
       "      <td>Mediven Sheer and Soft 15-20 mmHg Thigh w/ Lac...</td>\n",
       "      <td>The sheerest compression stocking in its class...</td>\n",
       "      <td>Health|Medicine Cabinet|Braces &amp; Supports</td>\n",
       "      <td>Medi</td>\n",
       "      <td>62.38</td>\n",
       "    </tr>\n",
       "    <tr>\n",
       "      <th>4</th>\n",
       "      <td>84836</td>\n",
       "      <td>Stupell Industries Chevron Initial Wall D cor</td>\n",
       "      <td>Features: -Made in the USA. -Sawtooth hanger o...</td>\n",
       "      <td>Home Improvement|Paint|Wall Decals|All Wall De...</td>\n",
       "      <td>Stupell Industries</td>\n",
       "      <td>35.99</td>\n",
       "    </tr>\n",
       "  </tbody>\n",
       "</table>\n",
       "</div>"
      ],
      "text/plain": [
       "  StockCode                                       Product Name  \\\n",
       "0     22629  Ganma Superheroes Ordinary Life Case For Samsu...   \n",
       "1     21238  Eye Buy Express Prescription Glasses Mens Wome...   \n",
       "2     22181  MightySkins Skin Decal Wrap Compatible with Ni...   \n",
       "3     84879  Mediven Sheer and Soft 15-20 mmHg Thigh w/ Lac...   \n",
       "4     84836      Stupell Industries Chevron Initial Wall D cor   \n",
       "\n",
       "                                         Description  \\\n",
       "0  New unique design, great gift.High quality pla...   \n",
       "1  Rounded rectangular cat-eye reading glasses. T...   \n",
       "2  Each Nintendo 2DS kit is printed with super-hi...   \n",
       "3  The sheerest compression stocking in its class...   \n",
       "4  Features: -Made in the USA. -Sawtooth hanger o...   \n",
       "\n",
       "                                            Category               Brand  \\\n",
       "0  Cell Phones|Cellphone Accessories|Cases & Prot...               Ganma   \n",
       "1          Health|Home Health Care|Daily Living Aids     Eye Buy Express   \n",
       "2  Video Games|Video Game Accessories|Accessories...         Mightyskins   \n",
       "3          Health|Medicine Cabinet|Braces & Supports                Medi   \n",
       "4  Home Improvement|Paint|Wall Decals|All Wall De...  Stupell Industries   \n",
       "\n",
       "   Unit Price  \n",
       "0       13.99  \n",
       "1       19.22  \n",
       "2       14.99  \n",
       "3       62.38  \n",
       "4       35.99  "
      ]
     },
     "execution_count": 2,
     "metadata": {},
     "output_type": "execute_result"
    }
   ],
   "source": [
    "df = pd.read_excel(\"data.xlsx\")\n",
    "# Viewing Top 5 Rows\n",
    "df.head(5)"
   ]
  },
  {
   "cell_type": "code",
   "execution_count": 3,
   "id": "f08522bb",
   "metadata": {},
   "outputs": [
    {
     "name": "stdout",
     "output_type": "stream",
     "text": [
      "<class 'pandas.core.frame.DataFrame'>\n",
      "RangeIndex: 3958 entries, 0 to 3957\n",
      "Data columns (total 6 columns):\n",
      " #   Column        Non-Null Count  Dtype  \n",
      "---  ------        --------------  -----  \n",
      " 0   StockCode     3958 non-null   object \n",
      " 1   Product Name  3958 non-null   object \n",
      " 2   Description   3958 non-null   object \n",
      " 3   Category      3856 non-null   object \n",
      " 4   Brand         3818 non-null   object \n",
      " 5   Unit Price    3943 non-null   float64\n",
      "dtypes: float64(1), object(5)\n",
      "memory usage: 185.7+ KB\n"
     ]
    }
   ],
   "source": [
    "# Data Info\n",
    "df.info()"
   ]
  },
  {
   "cell_type": "code",
   "execution_count": 4,
   "id": "3e088f78",
   "metadata": {},
   "outputs": [],
   "source": [
    "# Total Null Values in Data\n",
    "df.isnull().sum(axis = 0)\n",
    "\n",
    "# Droping Null Values\n",
    "df.dropna().reset_index(inplace = True)"
   ]
  },
  {
   "cell_type": "code",
   "execution_count": 5,
   "id": "3179c546",
   "metadata": {},
   "outputs": [
    {
     "data": {
      "text/plain": [
       "(3958, 6)"
      ]
     },
     "execution_count": 5,
     "metadata": {},
     "output_type": "execute_result"
    }
   ],
   "source": [
    "# Data Shape\n",
    "df.shape"
   ]
  },
  {
   "cell_type": "code",
   "execution_count": 6,
   "id": "6799bf46",
   "metadata": {},
   "outputs": [
    {
     "data": {
      "text/html": [
       "<div>\n",
       "<style scoped>\n",
       "    .dataframe tbody tr th:only-of-type {\n",
       "        vertical-align: middle;\n",
       "    }\n",
       "\n",
       "    .dataframe tbody tr th {\n",
       "        vertical-align: top;\n",
       "    }\n",
       "\n",
       "    .dataframe thead th {\n",
       "        text-align: right;\n",
       "    }\n",
       "</style>\n",
       "<table border=\"1\" class=\"dataframe\">\n",
       "  <thead>\n",
       "    <tr style=\"text-align: right;\">\n",
       "      <th></th>\n",
       "      <th>StockCode</th>\n",
       "      <th>Product Name</th>\n",
       "      <th>Description</th>\n",
       "      <th>Category</th>\n",
       "      <th>Brand</th>\n",
       "      <th>Unit Price</th>\n",
       "    </tr>\n",
       "  </thead>\n",
       "  <tbody>\n",
       "    <tr>\n",
       "      <th>0</th>\n",
       "      <td>22629</td>\n",
       "      <td>Ganma Superheroes Ordinary Life Case For Samsu...</td>\n",
       "      <td>New unique design, great gift.High quality pla...</td>\n",
       "      <td>Cell Phones|Cellphone Accessories|Cases &amp; Prot...</td>\n",
       "      <td>Ganma</td>\n",
       "      <td>13.99</td>\n",
       "    </tr>\n",
       "    <tr>\n",
       "      <th>1</th>\n",
       "      <td>21238</td>\n",
       "      <td>Eye Buy Express Prescription Glasses Mens Wome...</td>\n",
       "      <td>Rounded rectangular cat-eye reading glasses. T...</td>\n",
       "      <td>Health|Home Health Care|Daily Living Aids</td>\n",
       "      <td>Eye Buy Express</td>\n",
       "      <td>19.22</td>\n",
       "    </tr>\n",
       "    <tr>\n",
       "      <th>2</th>\n",
       "      <td>22181</td>\n",
       "      <td>MightySkins Skin Decal Wrap Compatible with Ni...</td>\n",
       "      <td>Each Nintendo 2DS kit is printed with super-hi...</td>\n",
       "      <td>Video Games|Video Game Accessories|Accessories...</td>\n",
       "      <td>Mightyskins</td>\n",
       "      <td>14.99</td>\n",
       "    </tr>\n",
       "    <tr>\n",
       "      <th>3</th>\n",
       "      <td>84879</td>\n",
       "      <td>Mediven Sheer and Soft 15-20 mmHg Thigh w/ Lac...</td>\n",
       "      <td>The sheerest compression stocking in its class...</td>\n",
       "      <td>Health|Medicine Cabinet|Braces &amp; Supports</td>\n",
       "      <td>Medi</td>\n",
       "      <td>62.38</td>\n",
       "    </tr>\n",
       "    <tr>\n",
       "      <th>4</th>\n",
       "      <td>84836</td>\n",
       "      <td>Stupell Industries Chevron Initial Wall D cor</td>\n",
       "      <td>Features: -Made in the USA. -Sawtooth hanger o...</td>\n",
       "      <td>Home Improvement|Paint|Wall Decals|All Wall De...</td>\n",
       "      <td>Stupell Industries</td>\n",
       "      <td>35.99</td>\n",
       "    </tr>\n",
       "    <tr>\n",
       "      <th>...</th>\n",
       "      <td>...</td>\n",
       "      <td>...</td>\n",
       "      <td>...</td>\n",
       "      <td>...</td>\n",
       "      <td>...</td>\n",
       "      <td>...</td>\n",
       "    </tr>\n",
       "    <tr>\n",
       "      <th>3953</th>\n",
       "      <td>84612B</td>\n",
       "      <td>Home Cardboard Flower Print Travel Memo Collec...</td>\n",
       "      <td>Special design, easy to insert and remove your...</td>\n",
       "      <td>Arts, Crafts &amp; Sewing|Scrapbooking|Albums &amp; Re...</td>\n",
       "      <td>Unique Bargains</td>\n",
       "      <td>20.99</td>\n",
       "    </tr>\n",
       "    <tr>\n",
       "      <th>3954</th>\n",
       "      <td>47502</td>\n",
       "      <td>6 1/4 x 6 1/4 Gatefold Invitation - Mandarin O...</td>\n",
       "      <td>Announce your event using a classic Gatefold s...</td>\n",
       "      <td>Office|Envelopes &amp; Mailing Supplies|Envelopes</td>\n",
       "      <td>Envelopes.com</td>\n",
       "      <td>55.23</td>\n",
       "    </tr>\n",
       "    <tr>\n",
       "      <th>3955</th>\n",
       "      <td>84546</td>\n",
       "      <td>Three Things That Makes Good Coffee: Sugar, Su...</td>\n",
       "      <td>Product Features:Size: 35in x 18inColor: Light...</td>\n",
       "      <td>Home Improvement|Paint|Wall Decals|All Wall De...</td>\n",
       "      <td>Style &amp; Apply</td>\n",
       "      <td>39.95</td>\n",
       "    </tr>\n",
       "    <tr>\n",
       "      <th>3956</th>\n",
       "      <td>21923</td>\n",
       "      <td>Women's Breeze Walker</td>\n",
       "      <td>Supple leather uppers with lining, three adjus...</td>\n",
       "      <td>Clothing|Shoes|Womens Shoes|All Womens Shoes</td>\n",
       "      <td>Prop?t</td>\n",
       "      <td>76.95</td>\n",
       "    </tr>\n",
       "    <tr>\n",
       "      <th>3957</th>\n",
       "      <td>16161M</td>\n",
       "      <td>LG PTAC 15 100 BTU/Cooling 11 900 BTU/Heating ...</td>\n",
       "      <td>LG PTAC 15 100 BTU/Cooling 11 900 BTU/Heating ...</td>\n",
       "      <td>Home Improvement|Heating, Cooling, &amp; Air Quali...</td>\n",
       "      <td>LG</td>\n",
       "      <td>5000.00</td>\n",
       "    </tr>\n",
       "  </tbody>\n",
       "</table>\n",
       "<p>3958 rows × 6 columns</p>\n",
       "</div>"
      ],
      "text/plain": [
       "     StockCode                                       Product Name  \\\n",
       "0        22629  Ganma Superheroes Ordinary Life Case For Samsu...   \n",
       "1        21238  Eye Buy Express Prescription Glasses Mens Wome...   \n",
       "2        22181  MightySkins Skin Decal Wrap Compatible with Ni...   \n",
       "3        84879  Mediven Sheer and Soft 15-20 mmHg Thigh w/ Lac...   \n",
       "4        84836      Stupell Industries Chevron Initial Wall D cor   \n",
       "...        ...                                                ...   \n",
       "3953    84612B  Home Cardboard Flower Print Travel Memo Collec...   \n",
       "3954     47502  6 1/4 x 6 1/4 Gatefold Invitation - Mandarin O...   \n",
       "3955     84546  Three Things That Makes Good Coffee: Sugar, Su...   \n",
       "3956     21923                              Women's Breeze Walker   \n",
       "3957    16161M  LG PTAC 15 100 BTU/Cooling 11 900 BTU/Heating ...   \n",
       "\n",
       "                                            Description  \\\n",
       "0     New unique design, great gift.High quality pla...   \n",
       "1     Rounded rectangular cat-eye reading glasses. T...   \n",
       "2     Each Nintendo 2DS kit is printed with super-hi...   \n",
       "3     The sheerest compression stocking in its class...   \n",
       "4     Features: -Made in the USA. -Sawtooth hanger o...   \n",
       "...                                                 ...   \n",
       "3953  Special design, easy to insert and remove your...   \n",
       "3954  Announce your event using a classic Gatefold s...   \n",
       "3955  Product Features:Size: 35in x 18inColor: Light...   \n",
       "3956  Supple leather uppers with lining, three adjus...   \n",
       "3957  LG PTAC 15 100 BTU/Cooling 11 900 BTU/Heating ...   \n",
       "\n",
       "                                               Category               Brand  \\\n",
       "0     Cell Phones|Cellphone Accessories|Cases & Prot...               Ganma   \n",
       "1             Health|Home Health Care|Daily Living Aids     Eye Buy Express   \n",
       "2     Video Games|Video Game Accessories|Accessories...         Mightyskins   \n",
       "3             Health|Medicine Cabinet|Braces & Supports                Medi   \n",
       "4     Home Improvement|Paint|Wall Decals|All Wall De...  Stupell Industries   \n",
       "...                                                 ...                 ...   \n",
       "3953  Arts, Crafts & Sewing|Scrapbooking|Albums & Re...     Unique Bargains   \n",
       "3954      Office|Envelopes & Mailing Supplies|Envelopes       Envelopes.com   \n",
       "3955  Home Improvement|Paint|Wall Decals|All Wall De...       Style & Apply   \n",
       "3956       Clothing|Shoes|Womens Shoes|All Womens Shoes              Prop?t   \n",
       "3957  Home Improvement|Heating, Cooling, & Air Quali...                  LG   \n",
       "\n",
       "      Unit Price  \n",
       "0          13.99  \n",
       "1          19.22  \n",
       "2          14.99  \n",
       "3          62.38  \n",
       "4          35.99  \n",
       "...          ...  \n",
       "3953       20.99  \n",
       "3954       55.23  \n",
       "3955       39.95  \n",
       "3956       76.95  \n",
       "3957     5000.00  \n",
       "\n",
       "[3958 rows x 6 columns]"
      ]
     },
     "execution_count": 6,
     "metadata": {},
     "output_type": "execute_result"
    }
   ],
   "source": [
    "df"
   ]
  },
  {
   "cell_type": "markdown",
   "id": "8109db5a",
   "metadata": {},
   "source": [
    "## Loading pretrained models"
   ]
  },
  {
   "cell_type": "code",
   "execution_count": 7,
   "id": "9e727c69",
   "metadata": {},
   "outputs": [],
   "source": [
    "# Importing Word2Vec\n",
    "word2vecModel = models.KeyedVectors.load_word2vec_format('GoogleNews-vectors-negative300.bin.gz', binary=True)"
   ]
  },
  {
   "cell_type": "code",
   "execution_count": 8,
   "id": "f8d09fbd",
   "metadata": {
    "id": "807033ca"
   },
   "outputs": [
    {
     "name": "stderr",
     "output_type": "stream",
     "text": [
      "C:\\Users\\saravanan.selvam\\AppData\\Local\\Continuum\\anaconda3\\lib\\site-packages\\ipykernel_launcher.py:2: DeprecationWarning: Call to deprecated `load_fasttext_format` (use load_facebook_vectors (to use pretrained embeddings) or load_facebook_model (to continue training with the loaded full model, more RAM) instead).\n",
      "  \n"
     ]
    }
   ],
   "source": [
    "# # Importing FastText\n",
    "fasttext_model=ft.load_fasttext_format(\"cc.en.300.bin.gz\")\n",
    "\n",
    "\n",
    "# # Import Glove\n",
    "glove_df = pd.read_csv('glove.6B.300d.txt', sep=\" \",\n",
    "                       quoting=3, header=None, index_col=0)\n",
    "glove_model = {key: value.values for key, value in glove_df.T.items()}"
   ]
  },
  {
   "cell_type": "markdown",
   "id": "f5840c90",
   "metadata": {},
   "source": [
    "## Importing Count Vectorizer and TFIDF"
   ]
  },
  {
   "cell_type": "code",
   "execution_count": 9,
   "id": "59c2641a",
   "metadata": {},
   "outputs": [],
   "source": [
    "# Importing Count Vectorizer\n",
    "count_vectorizer = CountVectorizer(stop_words='english')\n",
    "\n",
    "\n",
    "# Importing IFIDF\n",
    "tfidf_vec = TfidfVectorizer(stop_words='english', analyzer='word', ngram_range=(1,3))"
   ]
  },
  {
   "cell_type": "markdown",
   "id": "5e567cd6",
   "metadata": {},
   "source": [
    "# Preprocessing"
   ]
  },
  {
   "cell_type": "code",
   "execution_count": 10,
   "id": "8308f864",
   "metadata": {
    "id": "8kqwbKP_feL0"
   },
   "outputs": [
    {
     "name": "stderr",
     "output_type": "stream",
     "text": [
      "C:\\Users\\saravanan.selvam\\AppData\\Local\\Continuum\\anaconda3\\lib\\site-packages\\ipykernel_launcher.py:8: SettingWithCopyWarning: \n",
      "A value is trying to be set on a copy of a slice from a DataFrame.\n",
      "Try using .loc[row_indexer,col_indexer] = value instead\n",
      "\n",
      "See the caveats in the documentation: https://pandas.pydata.org/pandas-docs/stable/user_guide/indexing.html#returning-a-view-versus-a-copy\n",
      "  \n",
      "C:\\Users\\saravanan.selvam\\AppData\\Local\\Continuum\\anaconda3\\lib\\site-packages\\ipykernel_launcher.py:11: SettingWithCopyWarning: \n",
      "A value is trying to be set on a copy of a slice from a DataFrame.\n",
      "Try using .loc[row_indexer,col_indexer] = value instead\n",
      "\n",
      "See the caveats in the documentation: https://pandas.pydata.org/pandas-docs/stable/user_guide/indexing.html#returning-a-view-versus-a-copy\n",
      "  # This is added back by InteractiveShellApp.init_path()\n"
     ]
    }
   ],
   "source": [
    "# Combining Product and Description\n",
    "df['Description'] = df['Product Name'] + ' ' +df['Description']\n",
    "\n",
    "# Dropping Duplicates and keeping first record\n",
    "unique_df = df.drop_duplicates(subset=['Description'], keep='first')\n",
    "\n",
    "# Converting String to Lower Case\n",
    "unique_df['desc_lowered'] = unique_df['Description'].apply(lambda x: x.lower()) \n",
    "\n",
    "# Remove Stop special Characters\n",
    "unique_df['desc_lowered'] = unique_df['desc_lowered'].apply(lambda x: re.sub(r'[^\\w\\s]', '', x))\n",
    "\n",
    "# Coverting Description to List\n",
    "desc_list = list(unique_df['desc_lowered'])"
   ]
  },
  {
   "cell_type": "code",
   "execution_count": 11,
   "id": "44f7bdb1",
   "metadata": {},
   "outputs": [],
   "source": [
    "unique_df= unique_df.reset_index(drop=True)"
   ]
  },
  {
   "cell_type": "code",
   "execution_count": 12,
   "id": "cc4aac75",
   "metadata": {},
   "outputs": [],
   "source": [
    "unique_df.reset_index(inplace=True)"
   ]
  },
  {
   "cell_type": "markdown",
   "id": "d1b688e5",
   "metadata": {},
   "source": [
    "# Similarity Measures"
   ]
  },
  {
   "attachments": {},
   "cell_type": "markdown",
   "id": "79fa49ab",
   "metadata": {},
   "source": [
    "## Manhattan distance \n",
    "\n",
    "It is calculated as the sum of the absolute differences between the two vectors.\n"
   ]
  },
  {
   "attachments": {},
   "cell_type": "markdown",
   "id": "210b848b",
   "metadata": {},
   "source": [
    "## Euclidean distance \n",
    "\n",
    "It is calculated as the square root of the sum of the squared differences between the two vectors.\n",
    "\n"
   ]
  },
  {
   "attachments": {},
   "cell_type": "markdown",
   "id": "6499d602",
   "metadata": {},
   "source": [
    "## Cosine similarity \n",
    "\n",
    "\n",
    "It is the cosine of the angle between two n-dimensional vectors in an n-dimensional space. It is the dot product of the two vectors divided by the product of the two vectors' lengths (or magnitudes).\n",
    "\n"
   ]
  },
  {
   "cell_type": "markdown",
   "id": "2374c84b",
   "metadata": {},
   "source": [
    "# Functions for Ranking"
   ]
  },
  {
   "cell_type": "code",
   "execution_count": 13,
   "id": "b3cd73a8",
   "metadata": {},
   "outputs": [],
   "source": [
    "def find_euclidean_distances(sim_matrix, index, n=10): \n",
    "\n",
    "    # Getting Score and Index\n",
    "    result = list(enumerate(sim_matrix[index]))\n",
    "\n",
    "    # Sorting the Score and taking top 10 products\n",
    "    sorted_result = sorted(result,key=lambda x:x[1],reverse=False)[1:10+1]\n",
    "\n",
    "    # Mapping index with data\n",
    "    similar_products =  [{'value': unique_df.iloc[x[0]]['Product Name'], 'score' : round(x[1], 2)} for x in sorted_result]\n",
    "    \n",
    "    return similar_products"
   ]
  },
  {
   "cell_type": "code",
   "execution_count": 14,
   "id": "9c7b5b68",
   "metadata": {
    "id": "6PjX2EXDfs0K"
   },
   "outputs": [],
   "source": [
    "def find_similarity(cosine_sim_matrix, index, n=10):\n",
    "    \n",
    "    # calculate cosine similarity between each vectors\n",
    "    result = list(enumerate(cosine_sim_matrix[index]))\n",
    "    \n",
    "    # Sorting the Score\n",
    "    sorted_result = sorted(result,key=lambda x:x[1],reverse=True)[1:n+1]\n",
    "    \n",
    "    similar_products =  [{'value': unique_df.iloc[x[0]]['Product Name'], 'score' : round(x[1], 2)} for x in sorted_result]\n",
    "     \n",
    "    return similar_products\n"
   ]
  },
  {
   "cell_type": "code",
   "execution_count": 15,
   "id": "a23ed48c",
   "metadata": {},
   "outputs": [],
   "source": [
    "def find_manhattan_distance(sim_matrix, index, n=10):   \n",
    "     \n",
    "    # Getting Score and Index\n",
    "    result = list(enumerate(sim_matrix[index]))\n",
    "\n",
    "    # Sorting the Score and taking top 10 products\n",
    "    sorted_result = sorted(result,key=lambda x:x[1],reverse=False)[1:10+1]\n",
    "    \n",
    "    # Mapping index with data\n",
    "    similar_products =  [{'value': unique_df.iloc[x[0]]['Product Name'], 'score' : round(x[1], 2)} for x in sorted_result]\n",
    "    \n",
    "    return similar_products\n",
    "\n"
   ]
  },
  {
   "cell_type": "markdown",
   "id": "675d5387",
   "metadata": {},
   "source": [
    "# Recommendation functions using various features"
   ]
  },
  {
   "cell_type": "markdown",
   "id": "098e30c3",
   "metadata": {
    "id": "kE1O0wTvemDg"
   },
   "source": [
    "# Count Vectorizer"
   ]
  },
  {
   "attachments": {},
   "cell_type": "markdown",
   "id": "1d4f7bcc",
   "metadata": {},
   "source": [
    "CountVectorizer is used to transform a given text into a vector on the basis of the frequency (count) of each word that occurs in the entire text. This is helpful when we have multiple such texts, and we wish to convert each word in each text into vectors. CountVectorizer creates a matrix in which each unique word is represented by a column of the matrix, and each text sample from the document is a row in the matrix. The value of each cell is nothing but the count of the word in that particular text sample. \n",
    "Eg.\n",
    "document = [ “One Geek helps Two Geeks”, “Two Geeks help Four Geeks”, “Each Geek helps many other Geeks at GeeksforGeeks.”]\n",
    "\n"
   ]
  },
  {
   "cell_type": "code",
   "execution_count": 16,
   "id": "923ad6d5",
   "metadata": {},
   "outputs": [],
   "source": [
    "product_id = 'Vickerman 14\" Finial Drop Christmas Ornaments, Pack of 2'"
   ]
  },
  {
   "cell_type": "code",
   "execution_count": 17,
   "id": "b29d7491",
   "metadata": {
    "id": "ABTWplECevnS"
   },
   "outputs": [],
   "source": [
    "# Comparing similarity to get the top matches using count Vec\n",
    "\n",
    "def get_recommendation_cv(product_id, df, similarity, n=10):\n",
    "\n",
    "    row = df.loc[df['Product Name'] == product_id]\n",
    "    index = list(row.index)[0]\n",
    "    description = row['desc_lowered'].loc[index]\n",
    "\n",
    "    #Create vector using Count Vectorizer\n",
    "\n",
    "    count_vector = count_vectorizer.fit_transform(desc_list)\n",
    "    \n",
    "    if similarity == \"cosine\":\n",
    "        sim_matrix = cosine_similarity(count_vector)\n",
    "        products = find_similarity(sim_matrix , index)\n",
    "        \n",
    "    elif similarity == \"manhattan\":\n",
    "        sim_matrix = manhattan_distances(count_vector)\n",
    "        products = find_manhattan_distance(sim_matrix , index)\n",
    "        \n",
    "    else:\n",
    "        sim_matrix = euclidean_distances(count_vector)\n",
    "        products = find_euclidean_distances(sim_matrix , index)\n",
    "\n",
    "    return products\n"
   ]
  },
  {
   "cell_type": "code",
   "execution_count": 18,
   "id": "1dd9e941",
   "metadata": {
    "colab": {
     "base_uri": "https://localhost:8080/"
    },
    "id": "who7hcK5hUu8",
    "outputId": "194f5b6f-c57e-4790-b4b8-85476f391a40",
    "scrolled": false
   },
   "outputs": [
    {
     "data": {
      "text/plain": [
       "[{'value': 'Fancyleo Christmas Glasses Frames 2 Pack Glittered Eyeglasses Glasses Set No Lens Kids Family Xmas Party Ornaments Gift',\n",
       "  'score': 0.28},\n",
       " {'value': 'storefront christmas LED Decoration Light Gold Color Star Shape Vine Wedding Party event',\n",
       "  'score': 0.2},\n",
       " {'value': '16 inches 40 inches \"MERRY CHRISTMAS\" Letter Foil Inflated Balloon Float Helium Aluminum Balloons for Christmas Decoration',\n",
       "  'score': 0.19},\n",
       " {'value': '12ct Light Gunmetal Gray Shatterproof 4-Finish Christmas Ball Ornaments 4\" (100mm)',\n",
       "  'score': 0.19},\n",
       " {'value': 'PeanutsÃ‚Â Valentine Sign Craft Kit (Pack of 12)', 'score': 0.13},\n",
       " {'value': 'Simplicity 3 Pack Elastic Hair Ties White/Pink/Pink Leopard, 24 Count',\n",
       "  'score': 0.13},\n",
       " {'value': '3 Pack Newbee Fashion- \"Butterfly\" Thin Design Gold Emblem Reading Glasses with Lanyard +1.75',\n",
       "  'score': 0.12},\n",
       " {'value': 'Paper Mate Write Bros. Grip Mechanical Pencil, 0.7mm 5 ea (Pack of 2)',\n",
       "  'score': 0.11},\n",
       " {'value': 'Christopher Radko Glass Plum Frosty Snowman Christmas Ornament #1017624',\n",
       "  'score': 0.11},\n",
       " {'value': 'Is It To Late To Be Good Grinch Christmas Mens Tank Top Shirt',\n",
       "  'score': 0.11}]"
      ]
     },
     "execution_count": 18,
     "metadata": {},
     "output_type": "execute_result"
    }
   ],
   "source": [
    "# Cosine Similarity \n",
    "get_recommendation_cv(product_id, unique_df, similarity = \"cosine\", n=10)\n"
   ]
  },
  {
   "cell_type": "code",
   "execution_count": 19,
   "id": "736a7fd6",
   "metadata": {},
   "outputs": [
    {
     "data": {
      "text/plain": [
       "[{'value': 'Stepping Stones', 'score': 43.0},\n",
       " {'value': 'Global Portuguese', 'score': 43.0},\n",
       " {'value': 'Polo Blue by Ralph Lauren', 'score': 43.0},\n",
       " {'value': 'Auburn Leathercrafters Tuscany Leather Dog Collar', 'score': 45.0},\n",
       " {'value': 'Leftover Salmon', 'score': 45.0},\n",
       " {'value': 'Good (Vinyl)', 'score': 45.0},\n",
       " {'value': 'Drunken Monkeys', 'score': 45.0},\n",
       " {'value': 'DuraTech Roof Support Trim', 'score': 47.0},\n",
       " {'value': 'Amerlite Niche Sealing Ring', 'score': 47.0},\n",
       " {'value': 'Learning and Performance in Corrections', 'score': 47.0}]"
      ]
     },
     "execution_count": 19,
     "metadata": {},
     "output_type": "execute_result"
    }
   ],
   "source": [
    "# Manhattan Similarity \n",
    "get_recommendation_cv(product_id, unique_df, similarity = \"manhattan\", n=10)\n"
   ]
  },
  {
   "cell_type": "code",
   "execution_count": 27,
   "id": "2be26ae5",
   "metadata": {},
   "outputs": [
    {
     "data": {
      "text/plain": [
       "[{'value': 'Polo Blue by Ralph Lauren', 'score': 9.0},\n",
       " {'value': 'Auburn Leathercrafters Tuscany Leather Dog Collar', 'score': 9.11},\n",
       " {'value': 'Global Portuguese', 'score': 9.11},\n",
       " {'value': 'Stepping Stones', 'score': 9.22},\n",
       " {'value': 'Always in My Heart', 'score': 9.22},\n",
       " {'value': 'Leftover Salmon', 'score': 9.22},\n",
       " {'value': 'Good (Vinyl)', 'score': 9.22},\n",
       " {'value': 'Drunken Monkeys', 'score': 9.22},\n",
       " {'value': 'Learning and Performance in Corrections', 'score': 9.43},\n",
       " {'value': 'Chasing Hamburg (Vinyl)', 'score': 9.43}]"
      ]
     },
     "execution_count": 27,
     "metadata": {},
     "output_type": "execute_result"
    }
   ],
   "source": [
    "# Euclidean Similarity \n",
    "get_recommendation_cv(product_id, unique_df, similarity = \"euclidean\", n=10)\n"
   ]
  },
  {
   "cell_type": "markdown",
   "id": "8035f54e",
   "metadata": {},
   "source": [
    "# tf-Idf"
   ]
  },
  {
   "attachments": {},
   "cell_type": "markdown",
   "id": "f21b11cc",
   "metadata": {},
   "source": [
    "TF-IDF (term frequency-inverse document frequency) is a statistical measure that evaluates how relevant a word is to a document in a collection of documents. This is done by multiplying two metrics: how many times a word appears in a document, and the inverse document frequency of the word across a set of documents.\n",
    "\n",
    "\n",
    "\n",
    "documentA = 'the man went out for a walk'\n",
    "\n",
    "documentB = 'the children sat around the fire'\n"
   ]
  },
  {
   "cell_type": "code",
   "execution_count": 23,
   "id": "e5c33c14",
   "metadata": {
    "id": "vu-Z5dA1euap"
   },
   "outputs": [],
   "source": [
    "# Comparing similarity to get the top matches using TF-IDF\n",
    "\n",
    "def get_recommendation_tfidf(product_id, df, similarity, n=10):\n",
    "\n",
    "    row = df.loc[df['Product Name'] == product_id]\n",
    "    index = list(row.index)[0]\n",
    "    description = row['desc_lowered'].loc[index]\n",
    "\n",
    "    #Create vector using tfidf\n",
    "    \n",
    "    tfidf_matrix = tfidf_vec.fit_transform(desc_list)\n",
    "    \n",
    "    if similarity == \"cosine\":\n",
    "        sim_matrix = cosine_similarity(tfidf_matrix)\n",
    "        products = find_similarity(sim_matrix , index)\n",
    "        \n",
    "    elif similarity == \"manhattan\":\n",
    "        sim_matrix = manhattan_distances(tfidf_matrix)\n",
    "        products = find_manhattan_distance(sim_matrix , index)\n",
    "        \n",
    "    else:\n",
    "        sim_matrix = euclidean_distances(tfidf_matrix)\n",
    "        products = find_euclidean_distances(sim_matrix , index)\n",
    "\n",
    "    return products\n",
    "\n"
   ]
  },
  {
   "cell_type": "code",
   "execution_count": 24,
   "id": "d3e68ab2",
   "metadata": {
    "colab": {
     "base_uri": "https://localhost:8080/"
    },
    "id": "qSIU2gQ-hfEu",
    "outputId": "ef28a6f6-fac2-4d88-b460-69ca6bd36fc6"
   },
   "outputs": [
    {
     "data": {
      "text/plain": [
       "[{'value': 'Fancyleo Christmas Glasses Frames 2 Pack Glittered Eyeglasses Glasses Set No Lens Kids Family Xmas Party Ornaments Gift',\n",
       "  'score': 0.07},\n",
       " {'value': 'storefront christmas LED Decoration Light Gold Color Star Shape Vine Wedding Party event',\n",
       "  'score': 0.05},\n",
       " {'value': '12ct Light Gunmetal Gray Shatterproof 4-Finish Christmas Ball Ornaments 4\" (100mm)',\n",
       "  'score': 0.05},\n",
       " {'value': '16 inches 40 inches \"MERRY CHRISTMAS\" Letter Foil Inflated Balloon Float Helium Aluminum Balloons for Christmas Decoration',\n",
       "  'score': 0.05},\n",
       " {'value': 'Is It To Late To Be Good Grinch Christmas Mens Tank Top Shirt',\n",
       "  'score': 0.02},\n",
       " {'value': 'Christopher Radko Glass Plum Frosty Snowman Christmas Ornament #1017624',\n",
       "  'score': 0.02},\n",
       " {'value': 'CMFUN Watercolor Brush Creative Flower Made with Ink Hand Painting for Your Designs Pillowcase 20x20 inch',\n",
       "  'score': 0.02},\n",
       " {'value': 'SKIN DECAL FOR OtterBox Symmetry Samsung Galaxy S7 Case - Christmas Snowflake Blue Ornaments DECAL, NOT A CASE',\n",
       "  'score': 0.02},\n",
       " {'value': \"Santa's Workshop Illinois Mascot and Flag Nutcracker\",\n",
       "  'score': 0.02},\n",
       " {'value': 'The Holiday Aisle LED C7 Faceted Christmas Light Bulb',\n",
       "  'score': 0.02}]"
      ]
     },
     "execution_count": 24,
     "metadata": {},
     "output_type": "execute_result"
    }
   ],
   "source": [
    "# Cosine Similarity \n",
    "get_recommendation_tfidf(product_id, unique_df, similarity = \"cosine\", n=10)\n"
   ]
  },
  {
   "cell_type": "code",
   "execution_count": 25,
   "id": "83429298",
   "metadata": {},
   "outputs": [
    {
     "data": {
      "text/plain": [
       "[{'value': 'Stepping Stones', 'score': 11.05},\n",
       " {'value': 'Global Portuguese', 'score': 11.42},\n",
       " {'value': 'Polo Blue by Ralph Lauren', 'score': 11.68},\n",
       " {'value': 'DuraTech Roof Support Trim', 'score': 12.06},\n",
       " {'value': 'Silver Metallic Foil Streamers', 'score': 12.07},\n",
       " {'value': 'Pro Pinstripe Jersey Sleeveles', 'score': 12.07},\n",
       " {'value': 'Amerlite Niche Sealing Ring', 'score': 12.07},\n",
       " {'value': 'Leftover Salmon', 'score': 12.3},\n",
       " {'value': 'Drunken Monkeys', 'score': 12.32},\n",
       " {'value': \"Alfred's Drum Method, Book 1\", 'score': 12.41}]"
      ]
     },
     "execution_count": 25,
     "metadata": {},
     "output_type": "execute_result"
    }
   ],
   "source": [
    "# Manhattan Similarity \n",
    "get_recommendation_tfidf(product_id, unique_df, similarity = \"manhattan\", n=10)\n"
   ]
  },
  {
   "cell_type": "code",
   "execution_count": 26,
   "id": "e1346850",
   "metadata": {},
   "outputs": [
    {
     "data": {
      "text/plain": [
       "[{'value': 'Fancyleo Christmas Glasses Frames 2 Pack Glittered Eyeglasses Glasses Set No Lens Kids Family Xmas Party Ornaments Gift',\n",
       "  'score': 1.37},\n",
       " {'value': 'storefront christmas LED Decoration Light Gold Color Star Shape Vine Wedding Party event',\n",
       "  'score': 1.38},\n",
       " {'value': '12ct Light Gunmetal Gray Shatterproof 4-Finish Christmas Ball Ornaments 4\" (100mm)',\n",
       "  'score': 1.38},\n",
       " {'value': '16 inches 40 inches \"MERRY CHRISTMAS\" Letter Foil Inflated Balloon Float Helium Aluminum Balloons for Christmas Decoration',\n",
       "  'score': 1.38},\n",
       " {'value': 'Is It To Late To Be Good Grinch Christmas Mens Tank Top Shirt',\n",
       "  'score': 1.4},\n",
       " {'value': 'Christopher Radko Glass Plum Frosty Snowman Christmas Ornament #1017624',\n",
       "  'score': 1.4},\n",
       " {'value': 'CMFUN Watercolor Brush Creative Flower Made with Ink Hand Painting for Your Designs Pillowcase 20x20 inch',\n",
       "  'score': 1.4},\n",
       " {'value': 'SKIN DECAL FOR OtterBox Symmetry Samsung Galaxy S7 Case - Christmas Snowflake Blue Ornaments DECAL, NOT A CASE',\n",
       "  'score': 1.4},\n",
       " {'value': \"Santa's Workshop Illinois Mascot and Flag Nutcracker\",\n",
       "  'score': 1.4},\n",
       " {'value': 'The Holiday Aisle LED C7 Faceted Christmas Light Bulb',\n",
       "  'score': 1.4}]"
      ]
     },
     "execution_count": 26,
     "metadata": {},
     "output_type": "execute_result"
    }
   ],
   "source": [
    "# Euclidean Similarity \n",
    "get_recommendation_tfidf(product_id, unique_df, similarity = \"euclidean\", n=10)\n"
   ]
  },
  {
   "cell_type": "markdown",
   "id": "8d365fdd",
   "metadata": {},
   "source": [
    "# Word2vec"
   ]
  },
  {
   "attachments": {},
   "cell_type": "markdown",
   "id": "bdde2743",
   "metadata": {},
   "source": [
    "Word2Vec is a shallow, two-layer neural networks which is trained to reconstruct linguistic contexts of words. It takes as its input a large corpus of words and produces a vector space, typically of several hundred dimensions, with each unique word in the corpus being assigned a corresponding vector in the space. Word vectors are positioned in the vector space such that words that share common contexts in the corpus are located in close proximity to one another in the space. Word2Vec is a particularly computationally-efficient predictive model for learning word embeddings from raw text.\n"
   ]
  },
  {
   "cell_type": "code",
   "execution_count": 29,
   "id": "8e05fa02",
   "metadata": {
    "id": "YjyejkmFetlD"
   },
   "outputs": [],
   "source": [
    "# Comparing similarity to get the top matches using Word2Vec pretrained model\n",
    "\n",
    "def get_recommendation_word2vec(product_id, df, similarity, n=10):\n",
    "    \n",
    "    row = df.loc[df['Product Name'] == product_id]\n",
    "    input_index = list(row.index)[0]\n",
    "    description = row['desc_lowered'].loc[input_index]\n",
    "\n",
    "    #create vectors for each desc using word2vec\n",
    "    vector_matrix = np.empty((len(desc_list), 300))\n",
    "    for index, each_sentence in enumerate(desc_list):\n",
    "        sentence_vector = np.zeros((300,))\n",
    "        count  = 0\n",
    "        for each_word in each_sentence.split():\n",
    "            try:\n",
    "                sentence_vector += word2vecModel[each_word]\n",
    "                count += 1\n",
    "            except:\n",
    "                continue\n",
    "        \n",
    "        vector_matrix[index] = sentence_vector\n",
    "        \n",
    "    \n",
    "    if similarity == \"cosine\":\n",
    "        sim_matrix = cosine_similarity(vector_matrix)\n",
    "        products = find_similarity(sim_matrix , input_index)\n",
    "        \n",
    "    elif similarity == \"manhattan\":\n",
    "        sim_matrix = manhattan_distances(vector_matrix)\n",
    "        products = find_manhattan_distance(sim_matrix , input_index)\n",
    "        \n",
    "    else:\n",
    "        sim_matrix = euclidean_distances(vector_matrix)\n",
    "        products = find_euclidean_distances(sim_matrix , input_index)\n",
    "\n",
    "    return products"
   ]
  },
  {
   "cell_type": "code",
   "execution_count": 30,
   "id": "86e80b4b",
   "metadata": {
    "id": "JFFgx8tbhibl"
   },
   "outputs": [
    {
     "data": {
      "text/plain": [
       "[{'value': 'Fancyleo Christmas Glasses Frames 2 Pack Glittered Eyeglasses Glasses Set No Lens Kids Family Xmas Party Ornaments Gift',\n",
       "  'score': 0.85},\n",
       " {'value': 'Red Gift Wrap Bag by K-Kraft (Festive Red Stripes, 13 x 17.5 inches)',\n",
       "  'score': 0.85},\n",
       " {'value': '12 Pcs 3D Butterfly Stickers DIY Mural Art Decal Wall Stickers Crafts Wall Paper Decor (Yellow Series)',\n",
       "  'score': 0.84},\n",
       " {'value': 'Cat Mod Garden Complex - Unfinished/Black', 'score': 0.83},\n",
       " {'value': 'Three Things That Makes Good Coffee: Sugar, Sugar and More Sugar Wall Decal - wall decal, sticker, quotes and sayings - W5082 - Light pink, 35in x 18in',\n",
       "  'score': 0.82},\n",
       " {'value': 'Halloween Bats Wall Decal - Wall Sticker, Vinyl Wall Art, Home Decor, Wall Mural - W5014 - Royal blue, 16in x 10in',\n",
       "  'score': 0.82},\n",
       " {'value': 'Hibiscus Flowers Wall Decal - Wall Sticker, Vinyl Wall Art, Home Decor, Wall Mural - 2186 - 8in x 19in, Dark green',\n",
       "  'score': 0.82},\n",
       " {'value': 'Abstract Heart Plant Wall Decal - Wall Sticker, Vinyl Wall Art, Home Decor, Wall Mural - S125 - 12in x 13in, Royal blue',\n",
       "  'score': 0.82},\n",
       " {'value': 'Ecclesiastes 8:15 so I commend the enjoymentâ€¦ Vinyl Decal Sticker Quote - Small - Metallic Gold',\n",
       "  'score': 0.82},\n",
       " {'value': 'Pterosaur Wall Decal - dinosaur wall decal, sticker, mural vinyl art home decor - 3765 - Orange, 47in x 24in',\n",
       "  'score': 0.82}]"
      ]
     },
     "execution_count": 30,
     "metadata": {},
     "output_type": "execute_result"
    }
   ],
   "source": [
    "# Cosine Similarity \n",
    "get_recommendation_word2vec(product_id, unique_df, similarity = \"cosine\", n=10)\n"
   ]
  },
  {
   "cell_type": "code",
   "execution_count": 31,
   "id": "73e3ed43",
   "metadata": {},
   "outputs": [
    {
     "data": {
      "text/plain": [
       "[{'value': 'storefront christmas LED Decoration Light Gold Color Star Shape Vine Wedding Party event',\n",
       "  'score': 458.13},\n",
       " {'value': '8 1/2 x 14 Cardstock - Crystal Metallic (500 Qty.)',\n",
       "  'score': 488.19},\n",
       " {'value': 'Cavalier Spaniel St. Patricks Day Shamrock Mouse Pad&#44; Hot Pad Or Trivet',\n",
       "  'score': 497.0},\n",
       " {'value': \"Call of the Wild Howling the Full Moon Women's Racerback Alpha Wolf\",\n",
       "  'score': 509.22},\n",
       " {'value': 'Fringe Table Skirt Purple 9 ft x 29 inches Pkg/1',\n",
       "  'score': 516.08},\n",
       " {'value': 'Trend Enterprises T-83315 1.25 in. Holiday Pals & Peppermint Scratch N Sniff Stinky Stickers&#44; Large Round',\n",
       "  'score': 522.0},\n",
       " {'value': \"Allwitty 1039 - Women's T-Shirt Ipac Pistol Gun Apple Iphone Parody\",\n",
       "  'score': 525.03},\n",
       " {'value': 'Clear 18 Note Acrylic Box Musical Paperweight - Light My Fire',\n",
       "  'score': 526.08},\n",
       " {'value': 'Handcrafted Ercolano Music Box Featuring \"Luncheon of the Boating Party\" by Renoir, Pierre Auguste - New YorkNew York',\n",
       "  'score': 527.88},\n",
       " {'value': 'Platinum 5 mm Comfort Fit Half Round Wedding Band - Size 9.5',\n",
       "  'score': 528.08}]"
      ]
     },
     "execution_count": 31,
     "metadata": {},
     "output_type": "execute_result"
    }
   ],
   "source": [
    "# Manhattan Similarity \n",
    "get_recommendation_word2vec(product_id, unique_df, similarity = \"manhattan\", n=10)\n"
   ]
  },
  {
   "cell_type": "code",
   "execution_count": 32,
   "id": "66d9a484",
   "metadata": {},
   "outputs": [
    {
     "data": {
      "text/plain": [
       "[{'value': 'storefront christmas LED Decoration Light Gold Color Star Shape Vine Wedding Party event',\n",
       "  'score': 32.76},\n",
       " {'value': '8 1/2 x 14 Cardstock - Crystal Metallic (500 Qty.)',\n",
       "  'score': 34.82},\n",
       " {'value': 'Cavalier Spaniel St. Patricks Day Shamrock Mouse Pad&#44; Hot Pad Or Trivet',\n",
       "  'score': 35.78},\n",
       " {'value': \"Call of the Wild Howling the Full Moon Women's Racerback Alpha Wolf\",\n",
       "  'score': 36.09},\n",
       " {'value': 'Fringe Table Skirt Purple 9 ft x 29 inches Pkg/1', 'score': 36.28},\n",
       " {'value': \"New Way 075 - Men's Sleeveless Fbi Female Body Inspector\",\n",
       "  'score': 37.43},\n",
       " {'value': 'Trend Enterprises T-83315 1.25 in. Holiday Pals & Peppermint Scratch N Sniff Stinky Stickers&#44; Large Round',\n",
       "  'score': 37.51},\n",
       " {'value': 'Platinum 5 mm Comfort Fit Half Round Wedding Band - Size 9.5',\n",
       "  'score': 37.6},\n",
       " {'value': 'Christmas Presents Between Friends Chinese Crested Black Sticky Note Holder',\n",
       "  'score': 37.78},\n",
       " {'value': 'Tulane Green Wave Muscle Mug', 'score': 37.85}]"
      ]
     },
     "execution_count": 32,
     "metadata": {},
     "output_type": "execute_result"
    }
   ],
   "source": [
    "# Euclidean Similarity \n",
    "get_recommendation_word2vec(product_id, unique_df, similarity = \"euclidean\", n=10)\n"
   ]
  },
  {
   "cell_type": "markdown",
   "id": "663db685",
   "metadata": {},
   "source": [
    "# fastText"
   ]
  },
  {
   "attachments": {},
   "cell_type": "markdown",
   "id": "b09af567",
   "metadata": {},
   "source": [
    "fastText is another word embedding method that is an extension of the word2vec model. Instead of learning vectors for words directly, fastText represents each word as an n-gram of characters. So, for example, take the word, “artificial” with n=3, the fastText representation of this word is <ar, art, rti, tif, ifi, fic, ici, ial, al>, where the angular brackets indicate the beginning and end of the word. This helps capture the meaning of shorter words and allows the embeddings to understand suffixes and prefixes.\n"
   ]
  },
  {
   "cell_type": "code",
   "execution_count": 34,
   "id": "0c8b286a",
   "metadata": {
    "id": "v-C0OkXZgouf"
   },
   "outputs": [],
   "source": [
    "# Comparing similarity to get the top matches using fastText pretrained model\n",
    "\n",
    "def get_recommendation_fasttext(product_id, df, similarity, n=10):\n",
    "\n",
    "    row = df.loc[df['Product Name'] == product_id]\n",
    "    input_index = list(row.index)[0]\n",
    "    description = row['desc_lowered'].loc[input_index]\n",
    "\n",
    "    #create vectors for each description using fasttext\n",
    "    vector_matrix = np.empty((len(desc_list), 300))\n",
    "    for index, each_sentence in enumerate(desc_list):   \n",
    "        sentence_vector = np.zeros((300,))  \n",
    "        count  = 0\n",
    "        for each_word in each_sentence.split():      \n",
    "            try:\n",
    "                sentence_vector += fasttext_model.wv[each_word] \n",
    "                count += 1\n",
    "            except:\n",
    "                continue\n",
    "        \n",
    "        vector_matrix[index] = sentence_vector\n",
    "        \n",
    "    if similarity == \"cosine\":\n",
    "        sim_matrix = cosine_similarity(vector_matrix)\n",
    "        products = find_similarity(sim_matrix , input_index)\n",
    "        \n",
    "    elif similarity == \"manhattan\":\n",
    "        sim_matrix = manhattan_distances(vector_matrix)\n",
    "        products = find_manhattan_distance(sim_matrix , input_index)\n",
    "        \n",
    "    else:\n",
    "        sim_matrix = euclidean_distances(vector_matrix)\n",
    "        products = find_euclidean_distances(sim_matrix , input_index)\n",
    "\n",
    "    return products\n"
   ]
  },
  {
   "cell_type": "code",
   "execution_count": 35,
   "id": "955b12ab",
   "metadata": {
    "id": "QC_rKe13hktQ"
   },
   "outputs": [
    {
     "data": {
      "text/plain": [
       "[{'value': 'All Weather Cornhole Bags - Set of 8', 'score': 0.95},\n",
       " {'value': 'American Foxhound Christmas Sticky Note Holder BB8433SN',\n",
       "  'score': 0.95},\n",
       " {'value': '94\" Bottom Width x 96 1/2\" Top Width x 5 1/2\"H x 1 3/4\"P Stockton Crosshead',\n",
       "  'score': 0.94},\n",
       " {'value': 'Business Essentials 8\" x 8\" x 5\" Corrugated Mailers, 12-Pack',\n",
       "  'score': 0.94},\n",
       " {'value': 'Efavormart Pack of 5 Premium 17\" x 17\" Washable Polyester Napkins Great for Wedding Party Restaurant Dinner Parties',\n",
       "  'score': 0.94},\n",
       " {'value': '16 inches 40 inches \"MERRY CHRISTMAS\" Letter Foil Inflated Balloon Float Helium Aluminum Balloons for Christmas Decoration',\n",
       "  'score': 0.94},\n",
       " {'value': 'Ribbon Bazaar Double Faced Satin 2-1/4 inch Leaf Green 25 yards 100% Polyester Ribbon',\n",
       "  'score': 0.94},\n",
       " {'value': 'Buckle-Down Pet Leash - Buffalo Plaid Black Green - 4 Feet Long - 1 2\" Wide',\n",
       "  'score': 0.94},\n",
       " {'value': \"Diamond Clear Jewel Tone 3' Latex Balloon\", 'score': 0.93},\n",
       " {'value': '48\" Rect Resin Table & 6x14\" Chairs - Sand', 'score': 0.93}]"
      ]
     },
     "execution_count": 35,
     "metadata": {},
     "output_type": "execute_result"
    }
   ],
   "source": [
    "# Cosine Similarity \n",
    "get_recommendation_fasttext(product_id, unique_df, similarity = \"cosine\", n=10)"
   ]
  },
  {
   "cell_type": "code",
   "execution_count": 36,
   "id": "63354e24",
   "metadata": {},
   "outputs": [
    {
     "data": {
      "text/plain": [
       "[{'value': 'Spiral Birthday Candles, 36 Count', 'score': 256.96},\n",
       " {'value': 'Just Artifacts Gold Glitter Letter B', 'score': 275.4},\n",
       " {'value': 'Giant 36in. Purple Balloons (Set of 2)', 'score': 286.76},\n",
       " {'value': '(2-Pack) StealthShields Tablet Screen Protector for Lenovo IdeaPad Yoga 11 (U...',\n",
       "  'score': 292.03},\n",
       " {'value': 'Platinum 5 mm Comfort Fit Half Round Wedding Band - Size 9.5',\n",
       "  'score': 296.64},\n",
       " {'value': 'storefront christmas LED Decoration Light Gold Color Star Shape Vine Wedding Party event',\n",
       "  'score': 311.01},\n",
       " {'value': \"Call of the Wild Howling the Full Moon Women's Racerback Alpha Wolf\",\n",
       "  'score': 311.35},\n",
       " {'value': 'IN-70/65 Blue Paper Streamers 2PK', 'score': 318.63},\n",
       " {'value': 'Ganma Superheroes Ordinary Life Case For Samsung Galaxy Note 5 Hard Case Cover',\n",
       "  'score': 321.6},\n",
       " {'value': \"New Way 075 - Men's Sleeveless Fbi Female Body Inspector\",\n",
       "  'score': 324.14}]"
      ]
     },
     "execution_count": 36,
     "metadata": {},
     "output_type": "execute_result"
    }
   ],
   "source": [
    "# Manhattan Similarity \n",
    "get_recommendation_fasttext(product_id, unique_df, similarity = \"manhattan\", n=10)\n"
   ]
  },
  {
   "cell_type": "code",
   "execution_count": 37,
   "id": "23f6011d",
   "metadata": {},
   "outputs": [
    {
     "data": {
      "text/plain": [
       "[{'value': 'Spiral Birthday Candles, 36 Count', 'score': 19.13},\n",
       " {'value': 'Just Artifacts Gold Glitter Letter B', 'score': 19.92},\n",
       " {'value': 'Giant 36in. Purple Balloons (Set of 2)', 'score': 21.02},\n",
       " {'value': '(2-Pack) StealthShields Tablet Screen Protector for Lenovo IdeaPad Yoga 11 (U...',\n",
       "  'score': 22.99},\n",
       " {'value': 'Ganma Superheroes Ordinary Life Case For Samsung Galaxy Note 5 Hard Case Cover',\n",
       "  'score': 23.2},\n",
       " {'value': 'Platinum 5 mm Comfort Fit Half Round Wedding Band - Size 9.5',\n",
       "  'score': 23.21},\n",
       " {'value': 'IN-70/65 Blue Paper Streamers 2PK', 'score': 23.46},\n",
       " {'value': \"New Way 075 - Men's Sleeveless Fbi Female Body Inspector\",\n",
       "  'score': 23.91},\n",
       " {'value': 'Coral Parchment Treat Bags', 'score': 24.03},\n",
       " {'value': '031 - Unisex Long-Sleeve T-Shirt Disobey V For Vendetta Anonymous Fawkes Mask',\n",
       "  'score': 24.23}]"
      ]
     },
     "execution_count": 37,
     "metadata": {},
     "output_type": "execute_result"
    }
   ],
   "source": [
    "# Euclidean Similarity \n",
    "get_recommendation_fasttext(product_id, unique_df, similarity = \"euclidean\", n=10)\n"
   ]
  },
  {
   "cell_type": "markdown",
   "id": "bc936d72",
   "metadata": {},
   "source": [
    "# Glove"
   ]
  },
  {
   "attachments": {},
   "cell_type": "markdown",
   "id": "b61855b2",
   "metadata": {},
   "source": [
    "The advantage of GloVe is that, unlike Word2vec, GloVe does not rely just on local statistics (local context information of words), but incorporates global statistics (word co-occurrence) to obtain word vectors. But keep in mind that there’s quite a bit of synergy between the GloVe and Word2vec.\n",
    "\n"
   ]
  },
  {
   "cell_type": "code",
   "execution_count": 38,
   "id": "9db4ca2d",
   "metadata": {
    "id": "k_QKtjkygpL0"
   },
   "outputs": [],
   "source": [
    "# Comparing similarity to get the top matches using Glove pretrained model\n",
    "\n",
    "def get_recommendation_glove(product_id, df, similarity, n=10):\n",
    "\n",
    "    row = df.loc[df['Product Name'] == product_id]\n",
    "    input_index = list(row.index)[0]\n",
    "    description = row['desc_lowered'].loc[input_index]\n",
    "\n",
    "    #using glove embeddings to create vectors\n",
    "    vector_matrix = np.empty((len(desc_list), 300))\n",
    "    for index, each_sentence in enumerate(desc_list):\n",
    "        sentence_vector = np.zeros((300,))\n",
    "        count  = 0\n",
    "        for each_word in each_sentence.split():\n",
    "            try:\n",
    "                sentence_vector += glove_model[each_word]\n",
    "                count += 1\n",
    "                \n",
    "            except:\n",
    "                continue\n",
    "        \n",
    "        vector_matrix[index] = sentence_vector\n",
    "    \n",
    "    \n",
    "    if similarity == \"cosine\":\n",
    "        sim_matrix = cosine_similarity(vector_matrix)\n",
    "        products = find_similarity(sim_matrix , input_index)\n",
    "        \n",
    "    elif similarity == \"manhattan\":\n",
    "        sim_matrix = manhattan_distances(vector_matrix)\n",
    "        products = find_manhattan_distance(sim_matrix , input_index)\n",
    "        \n",
    "    else:\n",
    "        sim_matrix = euclidean_distances(vector_matrix)\n",
    "        products = find_euclidean_distances(sim_matrix , input_index)\n",
    "\n",
    "    return products\n"
   ]
  },
  {
   "cell_type": "code",
   "execution_count": 39,
   "id": "154f3e94",
   "metadata": {
    "id": "4Y8OnGPWhm36"
   },
   "outputs": [
    {
     "data": {
      "text/plain": [
       "[{'value': 'Red Gift Wrap Bag by K-Kraft (Festive Red Stripes, 13 x 17.5 inches)',\n",
       "  'score': 0.94},\n",
       " {'value': 'Cat Mod Garden Complex - Unfinished/Black', 'score': 0.93},\n",
       " {'value': 'CafePress - FIN Nuts Squirrel - Cute Infant Baby Football Bodysuit',\n",
       "  'score': 0.93},\n",
       " {'value': 'American Foxhound Christmas Sticky Note Holder BB8433SN',\n",
       "  'score': 0.93},\n",
       " {'value': 'CHAIM Street Sign Childrens Name Room Sign | Indoor/Outdoor | \\xa024\" Wide',\n",
       "  'score': 0.93},\n",
       " {'value': '12 Pcs 3D Butterfly Stickers DIY Mural Art Decal Wall Stickers Crafts Wall Paper Decor (Yellow Series)',\n",
       "  'score': 0.93},\n",
       " {'value': 'All Weather Cornhole Bags - Set of 8', 'score': 0.93},\n",
       " {'value': 'Ecclesiastes 8:15 so I commend the enjoymentâ€¦ Vinyl Decal Sticker Quote - Small - Metallic Gold',\n",
       "  'score': 0.93},\n",
       " {'value': 'Fancyleo Christmas Glasses Frames 2 Pack Glittered Eyeglasses Glasses Set No Lens Kids Family Xmas Party Ornaments Gift',\n",
       "  'score': 0.93},\n",
       " {'value': 'Buckle-Down DL-W30350-N Narrow 0.5\" Cassette', 'score': 0.93}]"
      ]
     },
     "execution_count": 39,
     "metadata": {},
     "output_type": "execute_result"
    }
   ],
   "source": [
    "# Cosine Similarity \n",
    "get_recommendation_glove(product_id, unique_df, similarity = \"cosine\", n=10)\n"
   ]
  },
  {
   "cell_type": "code",
   "execution_count": 40,
   "id": "157b4104",
   "metadata": {},
   "outputs": [
    {
     "data": {
      "text/plain": [
       "[{'value': 'Spiral Birthday Candles, 36 Count', 'score': 256.96},\n",
       " {'value': 'Just Artifacts Gold Glitter Letter B', 'score': 275.4},\n",
       " {'value': 'Giant 36in. Purple Balloons (Set of 2)', 'score': 286.76},\n",
       " {'value': '(2-Pack) StealthShields Tablet Screen Protector for Lenovo IdeaPad Yoga 11 (U...',\n",
       "  'score': 292.03},\n",
       " {'value': 'Platinum 5 mm Comfort Fit Half Round Wedding Band - Size 9.5',\n",
       "  'score': 296.64},\n",
       " {'value': 'storefront christmas LED Decoration Light Gold Color Star Shape Vine Wedding Party event',\n",
       "  'score': 311.01},\n",
       " {'value': \"Call of the Wild Howling the Full Moon Women's Racerback Alpha Wolf\",\n",
       "  'score': 311.35},\n",
       " {'value': 'IN-70/65 Blue Paper Streamers 2PK', 'score': 318.63},\n",
       " {'value': 'Ganma Superheroes Ordinary Life Case For Samsung Galaxy Note 5 Hard Case Cover',\n",
       "  'score': 321.6},\n",
       " {'value': \"New Way 075 - Men's Sleeveless Fbi Female Body Inspector\",\n",
       "  'score': 324.14}]"
      ]
     },
     "execution_count": 40,
     "metadata": {},
     "output_type": "execute_result"
    }
   ],
   "source": [
    "# Manhattan Similarity \n",
    "get_recommendation_fasttext(product_id, unique_df, similarity = \"manhattan\", n=10)\n"
   ]
  },
  {
   "cell_type": "code",
   "execution_count": 41,
   "id": "90f2baf5",
   "metadata": {},
   "outputs": [
    {
     "data": {
      "text/plain": [
       "[{'value': 'Spiral Birthday Candles, 36 Count', 'score': 19.13},\n",
       " {'value': 'Just Artifacts Gold Glitter Letter B', 'score': 19.92},\n",
       " {'value': 'Giant 36in. Purple Balloons (Set of 2)', 'score': 21.02},\n",
       " {'value': '(2-Pack) StealthShields Tablet Screen Protector for Lenovo IdeaPad Yoga 11 (U...',\n",
       "  'score': 22.99},\n",
       " {'value': 'Ganma Superheroes Ordinary Life Case For Samsung Galaxy Note 5 Hard Case Cover',\n",
       "  'score': 23.2},\n",
       " {'value': 'Platinum 5 mm Comfort Fit Half Round Wedding Band - Size 9.5',\n",
       "  'score': 23.21},\n",
       " {'value': 'IN-70/65 Blue Paper Streamers 2PK', 'score': 23.46},\n",
       " {'value': \"New Way 075 - Men's Sleeveless Fbi Female Body Inspector\",\n",
       "  'score': 23.91},\n",
       " {'value': 'Coral Parchment Treat Bags', 'score': 24.03},\n",
       " {'value': '031 - Unisex Long-Sleeve T-Shirt Disobey V For Vendetta Anonymous Fawkes Mask',\n",
       "  'score': 24.23}]"
      ]
     },
     "execution_count": 41,
     "metadata": {},
     "output_type": "execute_result"
    }
   ],
   "source": [
    "# Euclidean Similarity \n",
    "get_recommendation_fasttext(product_id, unique_df, similarity = \"euclidean\", n=10)\n"
   ]
  },
  {
   "cell_type": "markdown",
   "id": "fe04d1be",
   "metadata": {},
   "source": [
    "# co-occurrence matrix"
   ]
  },
  {
   "attachments": {},
   "cell_type": "markdown",
   "id": "2139e16e",
   "metadata": {},
   "source": [
    "The purpose of this matrix is to present the number of times each word appears in the same context. .\n",
    "\n",
    "Roses are red. Sky is blue.\n",
    "\n"
   ]
  },
  {
   "cell_type": "code",
   "execution_count": 42,
   "id": "9e0307e9",
   "metadata": {},
   "outputs": [
    {
     "name": "stderr",
     "output_type": "stream",
     "text": [
      "C:\\Users\\saravanan.selvam\\AppData\\Local\\Continuum\\anaconda3\\lib\\site-packages\\ipykernel_launcher.py:6: SettingWithCopyWarning: \n",
      "A value is trying to be set on a copy of a slice from a DataFrame.\n",
      "Try using .loc[row_indexer,col_indexer] = value instead\n",
      "\n",
      "See the caveats in the documentation: https://pandas.pydata.org/pandas-docs/stable/user_guide/indexing.html#returning-a-view-versus-a-copy\n",
      "  \n",
      "C:\\Users\\saravanan.selvam\\AppData\\Local\\Continuum\\anaconda3\\lib\\site-packages\\ipykernel_launcher.py:8: SettingWithCopyWarning: \n",
      "A value is trying to be set on a copy of a slice from a DataFrame.\n",
      "Try using .loc[row_indexer,col_indexer] = value instead\n",
      "\n",
      "See the caveats in the documentation: https://pandas.pydata.org/pandas-docs/stable/user_guide/indexing.html#returning-a-view-versus-a-copy\n",
      "  \n",
      "C:\\Users\\saravanan.selvam\\AppData\\Local\\Continuum\\anaconda3\\lib\\site-packages\\ipykernel_launcher.py:9: SettingWithCopyWarning: \n",
      "A value is trying to be set on a copy of a slice from a DataFrame.\n",
      "Try using .loc[row_indexer,col_indexer] = value instead\n",
      "\n",
      "See the caveats in the documentation: https://pandas.pydata.org/pandas-docs/stable/user_guide/indexing.html#returning-a-view-versus-a-copy\n",
      "  if __name__ == '__main__':\n"
     ]
    }
   ],
   "source": [
    "# create cooccurence matrix\n",
    "\n",
    "#preprocessing\n",
    "df = df.head(250)\n",
    "# Combining Product and Description\n",
    "df['Description'] = df['Product Name'] + ' ' +df['Description']\n",
    "unique_df = df.drop_duplicates(subset=['Description'], keep='first')\n",
    "unique_df['desc_lowered'] = unique_df['Description'].apply(lambda x: x.lower())  \n",
    "unique_df['desc_lowered'] = unique_df['desc_lowered'].apply(lambda x: re.sub(r'[^\\w\\s]', '', x))\n",
    "desc_list = list(unique_df['desc_lowered'])\n",
    "\n",
    "co_ocr_vocab = []\n",
    "for i in desc_list:\n",
    "    [co_ocr_vocab.append(x) for x in i.split()]\n",
    "\n",
    "co_occur_vector_matrix = np.zeros((len(co_ocr_vocab), len(co_ocr_vocab)))\n",
    "\n",
    "for _, sent in enumerate(desc_list):\n",
    "    words = sent.split()\n",
    "    for index, word in enumerate(words):\n",
    "        if index != len(words)-1:\n",
    "            co_occur_vector_matrix[co_ocr_vocab.index(word)][co_ocr_vocab.index(words[index+1])] += 1\n"
   ]
  },
  {
   "cell_type": "code",
   "execution_count": 43,
   "id": "17379cf0",
   "metadata": {
    "id": "_uNBgj33gpQ0"
   },
   "outputs": [],
   "source": [
    "# Comparing similarity to get the top matches using cooccurence matrix\n",
    "\n",
    "def get_recommendation_coccur(product_id, df, similarity, n=10):\n",
    "\n",
    "    row = df.loc[df['Product Name'] == product_id]\n",
    "    input_index = list(row.index)[0]\n",
    "    description = row['desc_lowered'].loc[input_index]\n",
    "\n",
    "    vector_matrix = np.empty((len(desc_list), len(co_ocr_vocab)))\n",
    "    for index, each_sentence in enumerate(desc_list):  \n",
    "        sentence_vector = np.zeros((len(co_ocr_vocab),))\n",
    "        count  = 0\n",
    "        for each_word in each_sentence.split(): \n",
    "            try:\n",
    "                sentence_vector += co_occur_vector_matrix[co_ocr_vocab.index(each_word)]\n",
    "                count += 1\n",
    "                \n",
    "            except:\n",
    "                continue\n",
    "        \n",
    "        vector_matrix[index] = sentence_vector/count\n",
    "    \n",
    "    \n",
    "    if similarity == \"cosine\":\n",
    "        sim_matrix = cosine_similarity(vector_matrix)\n",
    "        products = find_similarity(sim_matrix , index)\n",
    "        \n",
    "    elif similarity == \"manhattan\":\n",
    "        sim_matrix = manhattan_distances(vector_matrix)\n",
    "        products = find_manhattan_distance(sim_matrix , index)\n",
    "        \n",
    "    else:\n",
    "        sim_matrix = euclidean_distances(vector_matrix)\n",
    "        products = find_euclidean_distances(sim_matrix , index)\n",
    "\n",
    "    return products\n"
   ]
  },
  {
   "cell_type": "code",
   "execution_count": 44,
   "id": "f59036c5",
   "metadata": {
    "id": "mLIZpxiKhp9t"
   },
   "outputs": [
    {
     "data": {
      "text/plain": [
       "[{'value': 'Medi Comfort Closed Toe Knee Highs -15-20 mmHg Reg',\n",
       "  'score': 0.94},\n",
       " {'value': \"JustVH Women's Solid Henley V-Neck Casual Blouse Pleated Button Tunic Shirt Top\",\n",
       "  'score': 0.94},\n",
       " {'value': 'Toddler Kid Boys Girls Lightweight Breathable Trendy Slip-on Sneaker (6M US Toddler, Red)',\n",
       "  'score': 0.94},\n",
       " {'value': \"Pull-Ups Girls' Learning Designs Training Pants (Choose Pant Size and Count)\",\n",
       "  'score': 0.94},\n",
       " {'value': 'Ebe Reading Glasses Mens Womens Amber Red Oval Round Full Frame Anti Glare grade ckbdp9118',\n",
       "  'score': 0.92},\n",
       " {'value': \"CafePress - Surf's Up! - Men's Light Pajamas\", 'score': 0.91},\n",
       " {'value': 'Sculpey Polymer Clay Just Orange', 'score': 0.91},\n",
       " {'value': 'Ebe Women Reading Glasses Reader Cheaters Anti Reflective Lenses TR90 ry2209',\n",
       "  'score': 0.9},\n",
       " {'value': \"Dr. Comfort Paradise Women's Casual Shoe: 4.5 X-Wide (E-2E) Black Velcro\",\n",
       "  'score': 0.9},\n",
       " {'value': 'Basics - Blank Adult Hoodie Sweatshirt', 'score': 0.89}]"
      ]
     },
     "execution_count": 44,
     "metadata": {},
     "output_type": "execute_result"
    }
   ],
   "source": [
    "# Cosine Similarity \n",
    "get_recommendation_coccur(product_id, unique_df, similarity = \"cosine\", n=10)"
   ]
  },
  {
   "cell_type": "code",
   "execution_count": 45,
   "id": "9e32bce4",
   "metadata": {},
   "outputs": [
    {
     "data": {
      "text/plain": [
       "[{'value': 'Toddler Kid Boys Girls Lightweight Breathable Trendy Slip-on Sneaker (6M US Toddler, Red)',\n",
       "  'score': 30.42},\n",
       " {'value': \"Pull-Ups Girls' Learning Designs Training Pants (Choose Pant Size and Count)\",\n",
       "  'score': 35.64},\n",
       " {'value': 'Medi Comfort Closed Toe Knee Highs -15-20 mmHg Reg',\n",
       "  'score': 36.35},\n",
       " {'value': \"Women's Breeze Walker\", 'score': 39.91},\n",
       " {'value': \"JustVH Women's Solid Henley V-Neck Casual Blouse Pleated Button Tunic Shirt Top\",\n",
       "  'score': 41.3},\n",
       " {'value': 'Box Packaging White Deluxe Literature Mailer, 50/Bundle',\n",
       "  'score': 41.77},\n",
       " {'value': 'Ebe Reading Glasses Mens Womens Amber Red Oval Round Full Frame Anti Glare grade ckbdp9118',\n",
       "  'score': 42.64},\n",
       " {'value': \"Dr. Comfort Paradise Women's Casual Shoe: 4.5 X-Wide (E-2E) Black Velcro\",\n",
       "  'score': 44.48},\n",
       " {'value': \"Casual Nights Women's 2 Piece Floral Robe and Gown Set\",\n",
       "  'score': 47.12},\n",
       " {'value': 'Heavy Duty Handlebar Motorcycle Mount Holder Kit fits Apple iPad 2 3 & 4',\n",
       "  'score': 47.41}]"
      ]
     },
     "execution_count": 45,
     "metadata": {},
     "output_type": "execute_result"
    }
   ],
   "source": [
    "# Manhattan Similarity \n",
    "get_recommendation_coccur(product_id, unique_df, similarity = \"manhattan\", n=10)\n"
   ]
  },
  {
   "cell_type": "code",
   "execution_count": 46,
   "id": "b10a300c",
   "metadata": {},
   "outputs": [
    {
     "data": {
      "text/plain": [
       "[{'value': 'Toddler Kid Boys Girls Lightweight Breathable Trendy Slip-on Sneaker (6M US Toddler, Red)',\n",
       "  'score': 2.17},\n",
       " {'value': \"Pull-Ups Girls' Learning Designs Training Pants (Choose Pant Size and Count)\",\n",
       "  'score': 2.32},\n",
       " {'value': 'Medi Comfort Closed Toe Knee Highs -15-20 mmHg Reg',\n",
       "  'score': 2.35},\n",
       " {'value': \"JustVH Women's Solid Henley V-Neck Casual Blouse Pleated Button Tunic Shirt Top\",\n",
       "  'score': 2.53},\n",
       " {'value': \"Dr. Comfort Paradise Women's Casual Shoe: 4.5 X-Wide (E-2E) Black Velcro\",\n",
       "  'score': 2.73},\n",
       " {'value': 'Box Packaging White Deluxe Literature Mailer, 50/Bundle',\n",
       "  'score': 2.8},\n",
       " {'value': 'Ebe Reading Glasses Mens Womens Amber Red Oval Round Full Frame Anti Glare grade ckbdp9118',\n",
       "  'score': 2.81},\n",
       " {'value': 'Nail DIP Powder, Classic Color Collection, Dipping Acrylic For Any Kit or System by DipWell (CL - 58)',\n",
       "  'score': 2.85},\n",
       " {'value': \"Women's Breeze Walker\", 'score': 2.94},\n",
       " {'value': 'Bare Nature Vitamin Iced Tea - Guava Pineapple, 20 Fl. Oz. Bottles, 12 Ct',\n",
       "  'score': 3.03}]"
      ]
     },
     "execution_count": 46,
     "metadata": {},
     "output_type": "execute_result"
    }
   ],
   "source": [
    "# Euclidean Similarity \n",
    "get_recommendation_coccur(product_id, unique_df, similarity = \"euclidean\", n=10)\n"
   ]
  }
 ],
 "metadata": {
  "accelerator": "GPU",
  "colab": {
   "name": "M.ipynb",
   "provenance": []
  },
  "interpreter": {
   "hash": "54db0da984b571634a75b2046382c1042dab105b4f3941501d9373a012c2fb1e"
  },
  "kernelspec": {
   "display_name": "Python 3 (ipykernel)",
   "language": "python",
   "name": "python3"
  },
  "language_info": {
   "codemirror_mode": {
    "name": "ipython",
    "version": 3
   },
   "file_extension": ".py",
   "mimetype": "text/x-python",
   "name": "python",
   "nbconvert_exporter": "python",
   "pygments_lexer": "ipython3",
   "version": "3.8.10"
  },
  "widgets": {
   "application/vnd.jupyter.widget-state+json": {
    "000c3cf0091f40daa379e0223c79a5e6": {
     "model_module": "@jupyter-widgets/base",
     "model_module_version": "1.2.0",
     "model_name": "LayoutModel",
     "state": {
      "_model_module": "@jupyter-widgets/base",
      "_model_module_version": "1.2.0",
      "_model_name": "LayoutModel",
      "_view_count": null,
      "_view_module": "@jupyter-widgets/base",
      "_view_module_version": "1.2.0",
      "_view_name": "LayoutView",
      "align_content": null,
      "align_items": null,
      "align_self": null,
      "border": null,
      "bottom": null,
      "display": null,
      "flex": null,
      "flex_flow": null,
      "grid_area": null,
      "grid_auto_columns": null,
      "grid_auto_flow": null,
      "grid_auto_rows": null,
      "grid_column": null,
      "grid_gap": null,
      "grid_row": null,
      "grid_template_areas": null,
      "grid_template_columns": null,
      "grid_template_rows": null,
      "height": null,
      "justify_content": null,
      "justify_items": null,
      "left": null,
      "margin": null,
      "max_height": null,
      "max_width": null,
      "min_height": null,
      "min_width": null,
      "object_fit": null,
      "object_position": null,
      "order": null,
      "overflow": null,
      "overflow_x": null,
      "overflow_y": null,
      "padding": null,
      "right": null,
      "top": null,
      "visibility": null,
      "width": null
     }
    },
    "005189f0307442e1a2e103dd5e8ea0be": {
     "model_module": "@jupyter-widgets/controls",
     "model_module_version": "1.5.0",
     "model_name": "FloatProgressModel",
     "state": {
      "_dom_classes": [],
      "_model_module": "@jupyter-widgets/controls",
      "_model_module_version": "1.5.0",
      "_model_name": "FloatProgressModel",
      "_view_count": null,
      "_view_module": "@jupyter-widgets/controls",
      "_view_module_version": "1.5.0",
      "_view_name": "ProgressView",
      "bar_style": "success",
      "description": "",
      "description_tooltip": null,
      "layout": "IPY_MODEL_bd013c3b46524c17850343ac9e7a1602",
      "max": 267967963,
      "min": 0,
      "orientation": "horizontal",
      "style": "IPY_MODEL_f559265ef4784081909ef33ecf3cfda8",
      "value": 267967963
     }
    },
    "0576c1d4bcdd406eadbce71278ee13a9": {
     "model_module": "@jupyter-widgets/controls",
     "model_module_version": "1.5.0",
     "model_name": "HTMLModel",
     "state": {
      "_dom_classes": [],
      "_model_module": "@jupyter-widgets/controls",
      "_model_module_version": "1.5.0",
      "_model_name": "HTMLModel",
      "_view_count": null,
      "_view_module": "@jupyter-widgets/controls",
      "_view_module_version": "1.5.0",
      "_view_name": "HTMLView",
      "description": "",
      "description_tooltip": null,
      "layout": "IPY_MODEL_353ae22e67124f1188a4355c3db36b5c",
      "placeholder": "​",
      "style": "IPY_MODEL_8152bc43292c4f8ea5bd5e87b2d41721",
      "value": "Downloading: 100%"
     }
    },
    "0816ed6b97ed4c68aa710dae0d3298fc": {
     "model_module": "@jupyter-widgets/controls",
     "model_module_version": "1.5.0",
     "model_name": "HTMLModel",
     "state": {
      "_dom_classes": [],
      "_model_module": "@jupyter-widgets/controls",
      "_model_module_version": "1.5.0",
      "_model_name": "HTMLModel",
      "_view_count": null,
      "_view_module": "@jupyter-widgets/controls",
      "_view_module_version": "1.5.0",
      "_view_name": "HTMLView",
      "description": "",
      "description_tooltip": null,
      "layout": "IPY_MODEL_a1fab9e71f434e1eb9a6c8ddd0554fef",
      "placeholder": "​",
      "style": "IPY_MODEL_80e1b03016824dc881ee8f274760fc11",
      "value": " 483/483 [00:00&lt;00:00, 10.7kB/s]"
     }
    },
    "0e53f4a02c6b474a9f3dc81fb18af368": {
     "model_module": "@jupyter-widgets/controls",
     "model_module_version": "1.5.0",
     "model_name": "DescriptionStyleModel",
     "state": {
      "_model_module": "@jupyter-widgets/controls",
      "_model_module_version": "1.5.0",
      "_model_name": "DescriptionStyleModel",
      "_view_count": null,
      "_view_module": "@jupyter-widgets/base",
      "_view_module_version": "1.2.0",
      "_view_name": "StyleView",
      "description_width": ""
     }
    },
    "14a994ee673142e981e8bb506c1139f1": {
     "model_module": "@jupyter-widgets/base",
     "model_module_version": "1.2.0",
     "model_name": "LayoutModel",
     "state": {
      "_model_module": "@jupyter-widgets/base",
      "_model_module_version": "1.2.0",
      "_model_name": "LayoutModel",
      "_view_count": null,
      "_view_module": "@jupyter-widgets/base",
      "_view_module_version": "1.2.0",
      "_view_name": "LayoutView",
      "align_content": null,
      "align_items": null,
      "align_self": null,
      "border": null,
      "bottom": null,
      "display": null,
      "flex": null,
      "flex_flow": null,
      "grid_area": null,
      "grid_auto_columns": null,
      "grid_auto_flow": null,
      "grid_auto_rows": null,
      "grid_column": null,
      "grid_gap": null,
      "grid_row": null,
      "grid_template_areas": null,
      "grid_template_columns": null,
      "grid_template_rows": null,
      "height": null,
      "justify_content": null,
      "justify_items": null,
      "left": null,
      "margin": null,
      "max_height": null,
      "max_width": null,
      "min_height": null,
      "min_width": null,
      "object_fit": null,
      "object_position": null,
      "order": null,
      "overflow": null,
      "overflow_x": null,
      "overflow_y": null,
      "padding": null,
      "right": null,
      "top": null,
      "visibility": null,
      "width": null
     }
    },
    "1654c5f643a14c138022cf81284b864b": {
     "model_module": "@jupyter-widgets/controls",
     "model_module_version": "1.5.0",
     "model_name": "FloatProgressModel",
     "state": {
      "_dom_classes": [],
      "_model_module": "@jupyter-widgets/controls",
      "_model_module_version": "1.5.0",
      "_model_name": "FloatProgressModel",
      "_view_count": null,
      "_view_module": "@jupyter-widgets/controls",
      "_view_module_version": "1.5.0",
      "_view_name": "ProgressView",
      "bar_style": "success",
      "description": "",
      "description_tooltip": null,
      "layout": "IPY_MODEL_21271239621445b59abfb9d2314295f6",
      "max": 466062,
      "min": 0,
      "orientation": "horizontal",
      "style": "IPY_MODEL_cb77bb3bee3f42a0b88578b39fb4ab45",
      "value": 466062
     }
    },
    "187790a3c0a34f9d917b0a0a6f2e8dc3": {
     "model_module": "@jupyter-widgets/controls",
     "model_module_version": "1.5.0",
     "model_name": "DescriptionStyleModel",
     "state": {
      "_model_module": "@jupyter-widgets/controls",
      "_model_module_version": "1.5.0",
      "_model_name": "DescriptionStyleModel",
      "_view_count": null,
      "_view_module": "@jupyter-widgets/base",
      "_view_module_version": "1.2.0",
      "_view_name": "StyleView",
      "description_width": ""
     }
    },
    "21271239621445b59abfb9d2314295f6": {
     "model_module": "@jupyter-widgets/base",
     "model_module_version": "1.2.0",
     "model_name": "LayoutModel",
     "state": {
      "_model_module": "@jupyter-widgets/base",
      "_model_module_version": "1.2.0",
      "_model_name": "LayoutModel",
      "_view_count": null,
      "_view_module": "@jupyter-widgets/base",
      "_view_module_version": "1.2.0",
      "_view_name": "LayoutView",
      "align_content": null,
      "align_items": null,
      "align_self": null,
      "border": null,
      "bottom": null,
      "display": null,
      "flex": null,
      "flex_flow": null,
      "grid_area": null,
      "grid_auto_columns": null,
      "grid_auto_flow": null,
      "grid_auto_rows": null,
      "grid_column": null,
      "grid_gap": null,
      "grid_row": null,
      "grid_template_areas": null,
      "grid_template_columns": null,
      "grid_template_rows": null,
      "height": null,
      "justify_content": null,
      "justify_items": null,
      "left": null,
      "margin": null,
      "max_height": null,
      "max_width": null,
      "min_height": null,
      "min_width": null,
      "object_fit": null,
      "object_position": null,
      "order": null,
      "overflow": null,
      "overflow_x": null,
      "overflow_y": null,
      "padding": null,
      "right": null,
      "top": null,
      "visibility": null,
      "width": null
     }
    },
    "26214941f1354868bd757186d22a048a": {
     "model_module": "@jupyter-widgets/controls",
     "model_module_version": "1.5.0",
     "model_name": "HTMLModel",
     "state": {
      "_dom_classes": [],
      "_model_module": "@jupyter-widgets/controls",
      "_model_module_version": "1.5.0",
      "_model_name": "HTMLModel",
      "_view_count": null,
      "_view_module": "@jupyter-widgets/controls",
      "_view_module_version": "1.5.0",
      "_view_name": "HTMLView",
      "description": "",
      "description_tooltip": null,
      "layout": "IPY_MODEL_8edd654aff8e45d087dd0c0b5148481f",
      "placeholder": "​",
      "style": "IPY_MODEL_187790a3c0a34f9d917b0a0a6f2e8dc3",
      "value": " 455k/455k [00:00&lt;00:00, 682kB/s]"
     }
    },
    "2ce3e829ac7847fdabd53152d615d8cc": {
     "model_module": "@jupyter-widgets/controls",
     "model_module_version": "1.5.0",
     "model_name": "HBoxModel",
     "state": {
      "_dom_classes": [],
      "_model_module": "@jupyter-widgets/controls",
      "_model_module_version": "1.5.0",
      "_model_name": "HBoxModel",
      "_view_count": null,
      "_view_module": "@jupyter-widgets/controls",
      "_view_module_version": "1.5.0",
      "_view_name": "HBoxView",
      "box_style": "",
      "children": [
       "IPY_MODEL_d83175905aef487ab87e49552f64ef97",
       "IPY_MODEL_fa0b4e9285e5499baccf70a4f63b148c",
       "IPY_MODEL_0816ed6b97ed4c68aa710dae0d3298fc"
      ],
      "layout": "IPY_MODEL_4db01578e67d42e19f8a76eb1993cf5e"
     }
    },
    "2df7a001ae5a4e8bb09b216499b958dd": {
     "model_module": "@jupyter-widgets/controls",
     "model_module_version": "1.5.0",
     "model_name": "HBoxModel",
     "state": {
      "_dom_classes": [],
      "_model_module": "@jupyter-widgets/controls",
      "_model_module_version": "1.5.0",
      "_model_name": "HBoxModel",
      "_view_count": null,
      "_view_module": "@jupyter-widgets/controls",
      "_view_module_version": "1.5.0",
      "_view_name": "HBoxView",
      "box_style": "",
      "children": [
       "IPY_MODEL_999be19f2b40435db479c47e3a0bb602",
       "IPY_MODEL_704a7eb9ae8547f799b4d5610c18f2b9",
       "IPY_MODEL_e274664ee79748f0af903d21a9590877"
      ],
      "layout": "IPY_MODEL_f01e4b7606c849bb821cbcabf716a3b3"
     }
    },
    "353ae22e67124f1188a4355c3db36b5c": {
     "model_module": "@jupyter-widgets/base",
     "model_module_version": "1.2.0",
     "model_name": "LayoutModel",
     "state": {
      "_model_module": "@jupyter-widgets/base",
      "_model_module_version": "1.2.0",
      "_model_name": "LayoutModel",
      "_view_count": null,
      "_view_module": "@jupyter-widgets/base",
      "_view_module_version": "1.2.0",
      "_view_name": "LayoutView",
      "align_content": null,
      "align_items": null,
      "align_self": null,
      "border": null,
      "bottom": null,
      "display": null,
      "flex": null,
      "flex_flow": null,
      "grid_area": null,
      "grid_auto_columns": null,
      "grid_auto_flow": null,
      "grid_auto_rows": null,
      "grid_column": null,
      "grid_gap": null,
      "grid_row": null,
      "grid_template_areas": null,
      "grid_template_columns": null,
      "grid_template_rows": null,
      "height": null,
      "justify_content": null,
      "justify_items": null,
      "left": null,
      "margin": null,
      "max_height": null,
      "max_width": null,
      "min_height": null,
      "min_width": null,
      "object_fit": null,
      "object_position": null,
      "order": null,
      "overflow": null,
      "overflow_x": null,
      "overflow_y": null,
      "padding": null,
      "right": null,
      "top": null,
      "visibility": null,
      "width": null
     }
    },
    "381804a08122477aa987a99aefba6470": {
     "model_module": "@jupyter-widgets/controls",
     "model_module_version": "1.5.0",
     "model_name": "HTMLModel",
     "state": {
      "_dom_classes": [],
      "_model_module": "@jupyter-widgets/controls",
      "_model_module_version": "1.5.0",
      "_model_name": "HTMLModel",
      "_view_count": null,
      "_view_module": "@jupyter-widgets/controls",
      "_view_module_version": "1.5.0",
      "_view_name": "HTMLView",
      "description": "",
      "description_tooltip": null,
      "layout": "IPY_MODEL_000c3cf0091f40daa379e0223c79a5e6",
      "placeholder": "​",
      "style": "IPY_MODEL_bd6e539c77de46209ebbf162badea6f8",
      "value": "Downloading: 100%"
     }
    },
    "3bef64812b614c708c71fb2c256009b3": {
     "model_module": "@jupyter-widgets/base",
     "model_module_version": "1.2.0",
     "model_name": "LayoutModel",
     "state": {
      "_model_module": "@jupyter-widgets/base",
      "_model_module_version": "1.2.0",
      "_model_name": "LayoutModel",
      "_view_count": null,
      "_view_module": "@jupyter-widgets/base",
      "_view_module_version": "1.2.0",
      "_view_name": "LayoutView",
      "align_content": null,
      "align_items": null,
      "align_self": null,
      "border": null,
      "bottom": null,
      "display": null,
      "flex": null,
      "flex_flow": null,
      "grid_area": null,
      "grid_auto_columns": null,
      "grid_auto_flow": null,
      "grid_auto_rows": null,
      "grid_column": null,
      "grid_gap": null,
      "grid_row": null,
      "grid_template_areas": null,
      "grid_template_columns": null,
      "grid_template_rows": null,
      "height": null,
      "justify_content": null,
      "justify_items": null,
      "left": null,
      "margin": null,
      "max_height": null,
      "max_width": null,
      "min_height": null,
      "min_width": null,
      "object_fit": null,
      "object_position": null,
      "order": null,
      "overflow": null,
      "overflow_x": null,
      "overflow_y": null,
      "padding": null,
      "right": null,
      "top": null,
      "visibility": null,
      "width": null
     }
    },
    "3f07be2df80346b5be797ea1aa8ee1fa": {
     "model_module": "@jupyter-widgets/controls",
     "model_module_version": "1.5.0",
     "model_name": "FloatProgressModel",
     "state": {
      "_dom_classes": [],
      "_model_module": "@jupyter-widgets/controls",
      "_model_module_version": "1.5.0",
      "_model_name": "FloatProgressModel",
      "_view_count": null,
      "_view_module": "@jupyter-widgets/controls",
      "_view_module_version": "1.5.0",
      "_view_name": "ProgressView",
      "bar_style": "success",
      "description": "",
      "description_tooltip": null,
      "layout": "IPY_MODEL_3bef64812b614c708c71fb2c256009b3",
      "max": 28,
      "min": 0,
      "orientation": "horizontal",
      "style": "IPY_MODEL_8c3da02e225948f0a4ea15c95f7c3c45",
      "value": 28
     }
    },
    "3f2c7f3e8cbd41b791b59ef8bdb60ce0": {
     "model_module": "@jupyter-widgets/base",
     "model_module_version": "1.2.0",
     "model_name": "LayoutModel",
     "state": {
      "_model_module": "@jupyter-widgets/base",
      "_model_module_version": "1.2.0",
      "_model_name": "LayoutModel",
      "_view_count": null,
      "_view_module": "@jupyter-widgets/base",
      "_view_module_version": "1.2.0",
      "_view_name": "LayoutView",
      "align_content": null,
      "align_items": null,
      "align_self": null,
      "border": null,
      "bottom": null,
      "display": null,
      "flex": null,
      "flex_flow": null,
      "grid_area": null,
      "grid_auto_columns": null,
      "grid_auto_flow": null,
      "grid_auto_rows": null,
      "grid_column": null,
      "grid_gap": null,
      "grid_row": null,
      "grid_template_areas": null,
      "grid_template_columns": null,
      "grid_template_rows": null,
      "height": null,
      "justify_content": null,
      "justify_items": null,
      "left": null,
      "margin": null,
      "max_height": null,
      "max_width": null,
      "min_height": null,
      "min_width": null,
      "object_fit": null,
      "object_position": null,
      "order": null,
      "overflow": null,
      "overflow_x": null,
      "overflow_y": null,
      "padding": null,
      "right": null,
      "top": null,
      "visibility": null,
      "width": null
     }
    },
    "4db01578e67d42e19f8a76eb1993cf5e": {
     "model_module": "@jupyter-widgets/base",
     "model_module_version": "1.2.0",
     "model_name": "LayoutModel",
     "state": {
      "_model_module": "@jupyter-widgets/base",
      "_model_module_version": "1.2.0",
      "_model_name": "LayoutModel",
      "_view_count": null,
      "_view_module": "@jupyter-widgets/base",
      "_view_module_version": "1.2.0",
      "_view_name": "LayoutView",
      "align_content": null,
      "align_items": null,
      "align_self": null,
      "border": null,
      "bottom": null,
      "display": null,
      "flex": null,
      "flex_flow": null,
      "grid_area": null,
      "grid_auto_columns": null,
      "grid_auto_flow": null,
      "grid_auto_rows": null,
      "grid_column": null,
      "grid_gap": null,
      "grid_row": null,
      "grid_template_areas": null,
      "grid_template_columns": null,
      "grid_template_rows": null,
      "height": null,
      "justify_content": null,
      "justify_items": null,
      "left": null,
      "margin": null,
      "max_height": null,
      "max_width": null,
      "min_height": null,
      "min_width": null,
      "object_fit": null,
      "object_position": null,
      "order": null,
      "overflow": null,
      "overflow_x": null,
      "overflow_y": null,
      "padding": null,
      "right": null,
      "top": null,
      "visibility": null,
      "width": null
     }
    },
    "4f1ed11d01714d64853e0d96330b1985": {
     "model_module": "@jupyter-widgets/controls",
     "model_module_version": "1.5.0",
     "model_name": "ProgressStyleModel",
     "state": {
      "_model_module": "@jupyter-widgets/controls",
      "_model_module_version": "1.5.0",
      "_model_name": "ProgressStyleModel",
      "_view_count": null,
      "_view_module": "@jupyter-widgets/base",
      "_view_module_version": "1.2.0",
      "_view_name": "StyleView",
      "bar_color": null,
      "description_width": ""
     }
    },
    "50cc08f619d34d47a53e10330158120f": {
     "model_module": "@jupyter-widgets/base",
     "model_module_version": "1.2.0",
     "model_name": "LayoutModel",
     "state": {
      "_model_module": "@jupyter-widgets/base",
      "_model_module_version": "1.2.0",
      "_model_name": "LayoutModel",
      "_view_count": null,
      "_view_module": "@jupyter-widgets/base",
      "_view_module_version": "1.2.0",
      "_view_name": "LayoutView",
      "align_content": null,
      "align_items": null,
      "align_self": null,
      "border": null,
      "bottom": null,
      "display": null,
      "flex": null,
      "flex_flow": null,
      "grid_area": null,
      "grid_auto_columns": null,
      "grid_auto_flow": null,
      "grid_auto_rows": null,
      "grid_column": null,
      "grid_gap": null,
      "grid_row": null,
      "grid_template_areas": null,
      "grid_template_columns": null,
      "grid_template_rows": null,
      "height": null,
      "justify_content": null,
      "justify_items": null,
      "left": null,
      "margin": null,
      "max_height": null,
      "max_width": null,
      "min_height": null,
      "min_width": null,
      "object_fit": null,
      "object_position": null,
      "order": null,
      "overflow": null,
      "overflow_x": null,
      "overflow_y": null,
      "padding": null,
      "right": null,
      "top": null,
      "visibility": null,
      "width": null
     }
    },
    "5495d347b9d0407086039dad8724093c": {
     "model_module": "@jupyter-widgets/controls",
     "model_module_version": "1.5.0",
     "model_name": "ProgressStyleModel",
     "state": {
      "_model_module": "@jupyter-widgets/controls",
      "_model_module_version": "1.5.0",
      "_model_name": "ProgressStyleModel",
      "_view_count": null,
      "_view_module": "@jupyter-widgets/base",
      "_view_module_version": "1.2.0",
      "_view_name": "StyleView",
      "bar_color": null,
      "description_width": ""
     }
    },
    "5ca663a8bc1c40bab70722fb88e2fc13": {
     "model_module": "@jupyter-widgets/controls",
     "model_module_version": "1.5.0",
     "model_name": "DescriptionStyleModel",
     "state": {
      "_model_module": "@jupyter-widgets/controls",
      "_model_module_version": "1.5.0",
      "_model_name": "DescriptionStyleModel",
      "_view_count": null,
      "_view_module": "@jupyter-widgets/base",
      "_view_module_version": "1.2.0",
      "_view_name": "StyleView",
      "description_width": ""
     }
    },
    "6476a0e25c304f3391921a7d09db4d89": {
     "model_module": "@jupyter-widgets/base",
     "model_module_version": "1.2.0",
     "model_name": "LayoutModel",
     "state": {
      "_model_module": "@jupyter-widgets/base",
      "_model_module_version": "1.2.0",
      "_model_name": "LayoutModel",
      "_view_count": null,
      "_view_module": "@jupyter-widgets/base",
      "_view_module_version": "1.2.0",
      "_view_name": "LayoutView",
      "align_content": null,
      "align_items": null,
      "align_self": null,
      "border": null,
      "bottom": null,
      "display": null,
      "flex": null,
      "flex_flow": null,
      "grid_area": null,
      "grid_auto_columns": null,
      "grid_auto_flow": null,
      "grid_auto_rows": null,
      "grid_column": null,
      "grid_gap": null,
      "grid_row": null,
      "grid_template_areas": null,
      "grid_template_columns": null,
      "grid_template_rows": null,
      "height": null,
      "justify_content": null,
      "justify_items": null,
      "left": null,
      "margin": null,
      "max_height": null,
      "max_width": null,
      "min_height": null,
      "min_width": null,
      "object_fit": null,
      "object_position": null,
      "order": null,
      "overflow": null,
      "overflow_x": null,
      "overflow_y": null,
      "padding": null,
      "right": null,
      "top": null,
      "visibility": null,
      "width": null
     }
    },
    "704a7eb9ae8547f799b4d5610c18f2b9": {
     "model_module": "@jupyter-widgets/controls",
     "model_module_version": "1.5.0",
     "model_name": "FloatProgressModel",
     "state": {
      "_dom_classes": [],
      "_model_module": "@jupyter-widgets/controls",
      "_model_module_version": "1.5.0",
      "_model_name": "FloatProgressModel",
      "_view_count": null,
      "_view_module": "@jupyter-widgets/controls",
      "_view_module_version": "1.5.0",
      "_view_name": "ProgressView",
      "bar_style": "success",
      "description": "",
      "description_tooltip": null,
      "layout": "IPY_MODEL_6476a0e25c304f3391921a7d09db4d89",
      "max": 231508,
      "min": 0,
      "orientation": "horizontal",
      "style": "IPY_MODEL_4f1ed11d01714d64853e0d96330b1985",
      "value": 231508
     }
    },
    "7129afbaaf494beeb21557105f6285e3": {
     "model_module": "@jupyter-widgets/controls",
     "model_module_version": "1.5.0",
     "model_name": "HTMLModel",
     "state": {
      "_dom_classes": [],
      "_model_module": "@jupyter-widgets/controls",
      "_model_module_version": "1.5.0",
      "_model_name": "HTMLModel",
      "_view_count": null,
      "_view_module": "@jupyter-widgets/controls",
      "_view_module_version": "1.5.0",
      "_view_name": "HTMLView",
      "description": "",
      "description_tooltip": null,
      "layout": "IPY_MODEL_14a994ee673142e981e8bb506c1139f1",
      "placeholder": "​",
      "style": "IPY_MODEL_ac47b4d600314e6abcf998895d401d4c",
      "value": " 256M/256M [00:08&lt;00:00, 30.1MB/s]"
     }
    },
    "738dd8bcd165424cb9cdf929d8dfaded": {
     "model_module": "@jupyter-widgets/base",
     "model_module_version": "1.2.0",
     "model_name": "LayoutModel",
     "state": {
      "_model_module": "@jupyter-widgets/base",
      "_model_module_version": "1.2.0",
      "_model_name": "LayoutModel",
      "_view_count": null,
      "_view_module": "@jupyter-widgets/base",
      "_view_module_version": "1.2.0",
      "_view_name": "LayoutView",
      "align_content": null,
      "align_items": null,
      "align_self": null,
      "border": null,
      "bottom": null,
      "display": null,
      "flex": null,
      "flex_flow": null,
      "grid_area": null,
      "grid_auto_columns": null,
      "grid_auto_flow": null,
      "grid_auto_rows": null,
      "grid_column": null,
      "grid_gap": null,
      "grid_row": null,
      "grid_template_areas": null,
      "grid_template_columns": null,
      "grid_template_rows": null,
      "height": null,
      "justify_content": null,
      "justify_items": null,
      "left": null,
      "margin": null,
      "max_height": null,
      "max_width": null,
      "min_height": null,
      "min_width": null,
      "object_fit": null,
      "object_position": null,
      "order": null,
      "overflow": null,
      "overflow_x": null,
      "overflow_y": null,
      "padding": null,
      "right": null,
      "top": null,
      "visibility": null,
      "width": null
     }
    },
    "7d724864dcdd445f8ccf157420cc30b2": {
     "model_module": "@jupyter-widgets/base",
     "model_module_version": "1.2.0",
     "model_name": "LayoutModel",
     "state": {
      "_model_module": "@jupyter-widgets/base",
      "_model_module_version": "1.2.0",
      "_model_name": "LayoutModel",
      "_view_count": null,
      "_view_module": "@jupyter-widgets/base",
      "_view_module_version": "1.2.0",
      "_view_name": "LayoutView",
      "align_content": null,
      "align_items": null,
      "align_self": null,
      "border": null,
      "bottom": null,
      "display": null,
      "flex": null,
      "flex_flow": null,
      "grid_area": null,
      "grid_auto_columns": null,
      "grid_auto_flow": null,
      "grid_auto_rows": null,
      "grid_column": null,
      "grid_gap": null,
      "grid_row": null,
      "grid_template_areas": null,
      "grid_template_columns": null,
      "grid_template_rows": null,
      "height": null,
      "justify_content": null,
      "justify_items": null,
      "left": null,
      "margin": null,
      "max_height": null,
      "max_width": null,
      "min_height": null,
      "min_width": null,
      "object_fit": null,
      "object_position": null,
      "order": null,
      "overflow": null,
      "overflow_x": null,
      "overflow_y": null,
      "padding": null,
      "right": null,
      "top": null,
      "visibility": null,
      "width": null
     }
    },
    "80e1b03016824dc881ee8f274760fc11": {
     "model_module": "@jupyter-widgets/controls",
     "model_module_version": "1.5.0",
     "model_name": "DescriptionStyleModel",
     "state": {
      "_model_module": "@jupyter-widgets/controls",
      "_model_module_version": "1.5.0",
      "_model_name": "DescriptionStyleModel",
      "_view_count": null,
      "_view_module": "@jupyter-widgets/base",
      "_view_module_version": "1.2.0",
      "_view_name": "StyleView",
      "description_width": ""
     }
    },
    "8152bc43292c4f8ea5bd5e87b2d41721": {
     "model_module": "@jupyter-widgets/controls",
     "model_module_version": "1.5.0",
     "model_name": "DescriptionStyleModel",
     "state": {
      "_model_module": "@jupyter-widgets/controls",
      "_model_module_version": "1.5.0",
      "_model_name": "DescriptionStyleModel",
      "_view_count": null,
      "_view_module": "@jupyter-widgets/base",
      "_view_module_version": "1.2.0",
      "_view_name": "StyleView",
      "description_width": ""
     }
    },
    "834c5d4a9ca54cbaa73c5e836afa6cfd": {
     "model_module": "@jupyter-widgets/controls",
     "model_module_version": "1.5.0",
     "model_name": "HBoxModel",
     "state": {
      "_dom_classes": [],
      "_model_module": "@jupyter-widgets/controls",
      "_model_module_version": "1.5.0",
      "_model_name": "HBoxModel",
      "_view_count": null,
      "_view_module": "@jupyter-widgets/controls",
      "_view_module_version": "1.5.0",
      "_view_name": "HBoxView",
      "box_style": "",
      "children": [
       "IPY_MODEL_0576c1d4bcdd406eadbce71278ee13a9",
       "IPY_MODEL_005189f0307442e1a2e103dd5e8ea0be",
       "IPY_MODEL_7129afbaaf494beeb21557105f6285e3"
      ],
      "layout": "IPY_MODEL_ad966f8974194a7c91fe33dbd893025f"
     }
    },
    "89913f898d8a40eda9f5251698a9a5e6": {
     "model_module": "@jupyter-widgets/controls",
     "model_module_version": "1.5.0",
     "model_name": "DescriptionStyleModel",
     "state": {
      "_model_module": "@jupyter-widgets/controls",
      "_model_module_version": "1.5.0",
      "_model_name": "DescriptionStyleModel",
      "_view_count": null,
      "_view_module": "@jupyter-widgets/base",
      "_view_module_version": "1.2.0",
      "_view_name": "StyleView",
      "description_width": ""
     }
    },
    "8c3da02e225948f0a4ea15c95f7c3c45": {
     "model_module": "@jupyter-widgets/controls",
     "model_module_version": "1.5.0",
     "model_name": "ProgressStyleModel",
     "state": {
      "_model_module": "@jupyter-widgets/controls",
      "_model_module_version": "1.5.0",
      "_model_name": "ProgressStyleModel",
      "_view_count": null,
      "_view_module": "@jupyter-widgets/base",
      "_view_module_version": "1.2.0",
      "_view_name": "StyleView",
      "bar_color": null,
      "description_width": ""
     }
    },
    "8edd654aff8e45d087dd0c0b5148481f": {
     "model_module": "@jupyter-widgets/base",
     "model_module_version": "1.2.0",
     "model_name": "LayoutModel",
     "state": {
      "_model_module": "@jupyter-widgets/base",
      "_model_module_version": "1.2.0",
      "_model_name": "LayoutModel",
      "_view_count": null,
      "_view_module": "@jupyter-widgets/base",
      "_view_module_version": "1.2.0",
      "_view_name": "LayoutView",
      "align_content": null,
      "align_items": null,
      "align_self": null,
      "border": null,
      "bottom": null,
      "display": null,
      "flex": null,
      "flex_flow": null,
      "grid_area": null,
      "grid_auto_columns": null,
      "grid_auto_flow": null,
      "grid_auto_rows": null,
      "grid_column": null,
      "grid_gap": null,
      "grid_row": null,
      "grid_template_areas": null,
      "grid_template_columns": null,
      "grid_template_rows": null,
      "height": null,
      "justify_content": null,
      "justify_items": null,
      "left": null,
      "margin": null,
      "max_height": null,
      "max_width": null,
      "min_height": null,
      "min_width": null,
      "object_fit": null,
      "object_position": null,
      "order": null,
      "overflow": null,
      "overflow_x": null,
      "overflow_y": null,
      "padding": null,
      "right": null,
      "top": null,
      "visibility": null,
      "width": null
     }
    },
    "999be19f2b40435db479c47e3a0bb602": {
     "model_module": "@jupyter-widgets/controls",
     "model_module_version": "1.5.0",
     "model_name": "HTMLModel",
     "state": {
      "_dom_classes": [],
      "_model_module": "@jupyter-widgets/controls",
      "_model_module_version": "1.5.0",
      "_model_name": "HTMLModel",
      "_view_count": null,
      "_view_module": "@jupyter-widgets/controls",
      "_view_module_version": "1.5.0",
      "_view_name": "HTMLView",
      "description": "",
      "description_tooltip": null,
      "layout": "IPY_MODEL_f81000a313234e28b4b7b5f3264a5c97",
      "placeholder": "​",
      "style": "IPY_MODEL_89913f898d8a40eda9f5251698a9a5e6",
      "value": "Downloading: 100%"
     }
    },
    "a1fab9e71f434e1eb9a6c8ddd0554fef": {
     "model_module": "@jupyter-widgets/base",
     "model_module_version": "1.2.0",
     "model_name": "LayoutModel",
     "state": {
      "_model_module": "@jupyter-widgets/base",
      "_model_module_version": "1.2.0",
      "_model_name": "LayoutModel",
      "_view_count": null,
      "_view_module": "@jupyter-widgets/base",
      "_view_module_version": "1.2.0",
      "_view_name": "LayoutView",
      "align_content": null,
      "align_items": null,
      "align_self": null,
      "border": null,
      "bottom": null,
      "display": null,
      "flex": null,
      "flex_flow": null,
      "grid_area": null,
      "grid_auto_columns": null,
      "grid_auto_flow": null,
      "grid_auto_rows": null,
      "grid_column": null,
      "grid_gap": null,
      "grid_row": null,
      "grid_template_areas": null,
      "grid_template_columns": null,
      "grid_template_rows": null,
      "height": null,
      "justify_content": null,
      "justify_items": null,
      "left": null,
      "margin": null,
      "max_height": null,
      "max_width": null,
      "min_height": null,
      "min_width": null,
      "object_fit": null,
      "object_position": null,
      "order": null,
      "overflow": null,
      "overflow_x": null,
      "overflow_y": null,
      "padding": null,
      "right": null,
      "top": null,
      "visibility": null,
      "width": null
     }
    },
    "a654a34ae5e0410d8b43deb388c13bde": {
     "model_module": "@jupyter-widgets/controls",
     "model_module_version": "1.5.0",
     "model_name": "HBoxModel",
     "state": {
      "_dom_classes": [],
      "_model_module": "@jupyter-widgets/controls",
      "_model_module_version": "1.5.0",
      "_model_name": "HBoxModel",
      "_view_count": null,
      "_view_module": "@jupyter-widgets/controls",
      "_view_module_version": "1.5.0",
      "_view_name": "HBoxView",
      "box_style": "",
      "children": [
       "IPY_MODEL_381804a08122477aa987a99aefba6470",
       "IPY_MODEL_1654c5f643a14c138022cf81284b864b",
       "IPY_MODEL_26214941f1354868bd757186d22a048a"
      ],
      "layout": "IPY_MODEL_e306f5dae1a14e2fb3222df3b66251e1"
     }
    },
    "abc50e95a0c1408c9bf676a44e197e8c": {
     "model_module": "@jupyter-widgets/controls",
     "model_module_version": "1.5.0",
     "model_name": "HBoxModel",
     "state": {
      "_dom_classes": [],
      "_model_module": "@jupyter-widgets/controls",
      "_model_module_version": "1.5.0",
      "_model_name": "HBoxModel",
      "_view_count": null,
      "_view_module": "@jupyter-widgets/controls",
      "_view_module_version": "1.5.0",
      "_view_name": "HBoxView",
      "box_style": "",
      "children": [
       "IPY_MODEL_e760f3c9cd7a4f1095a74ab4f0dee64f",
       "IPY_MODEL_3f07be2df80346b5be797ea1aa8ee1fa",
       "IPY_MODEL_bd50abef42af405a8be6cdf330de974b"
      ],
      "layout": "IPY_MODEL_fcabf88012cf41bab4da3cd219ea6f42"
     }
    },
    "ac47b4d600314e6abcf998895d401d4c": {
     "model_module": "@jupyter-widgets/controls",
     "model_module_version": "1.5.0",
     "model_name": "DescriptionStyleModel",
     "state": {
      "_model_module": "@jupyter-widgets/controls",
      "_model_module_version": "1.5.0",
      "_model_name": "DescriptionStyleModel",
      "_view_count": null,
      "_view_module": "@jupyter-widgets/base",
      "_view_module_version": "1.2.0",
      "_view_name": "StyleView",
      "description_width": ""
     }
    },
    "ad966f8974194a7c91fe33dbd893025f": {
     "model_module": "@jupyter-widgets/base",
     "model_module_version": "1.2.0",
     "model_name": "LayoutModel",
     "state": {
      "_model_module": "@jupyter-widgets/base",
      "_model_module_version": "1.2.0",
      "_model_name": "LayoutModel",
      "_view_count": null,
      "_view_module": "@jupyter-widgets/base",
      "_view_module_version": "1.2.0",
      "_view_name": "LayoutView",
      "align_content": null,
      "align_items": null,
      "align_self": null,
      "border": null,
      "bottom": null,
      "display": null,
      "flex": null,
      "flex_flow": null,
      "grid_area": null,
      "grid_auto_columns": null,
      "grid_auto_flow": null,
      "grid_auto_rows": null,
      "grid_column": null,
      "grid_gap": null,
      "grid_row": null,
      "grid_template_areas": null,
      "grid_template_columns": null,
      "grid_template_rows": null,
      "height": null,
      "justify_content": null,
      "justify_items": null,
      "left": null,
      "margin": null,
      "max_height": null,
      "max_width": null,
      "min_height": null,
      "min_width": null,
      "object_fit": null,
      "object_position": null,
      "order": null,
      "overflow": null,
      "overflow_x": null,
      "overflow_y": null,
      "padding": null,
      "right": null,
      "top": null,
      "visibility": null,
      "width": null
     }
    },
    "bd013c3b46524c17850343ac9e7a1602": {
     "model_module": "@jupyter-widgets/base",
     "model_module_version": "1.2.0",
     "model_name": "LayoutModel",
     "state": {
      "_model_module": "@jupyter-widgets/base",
      "_model_module_version": "1.2.0",
      "_model_name": "LayoutModel",
      "_view_count": null,
      "_view_module": "@jupyter-widgets/base",
      "_view_module_version": "1.2.0",
      "_view_name": "LayoutView",
      "align_content": null,
      "align_items": null,
      "align_self": null,
      "border": null,
      "bottom": null,
      "display": null,
      "flex": null,
      "flex_flow": null,
      "grid_area": null,
      "grid_auto_columns": null,
      "grid_auto_flow": null,
      "grid_auto_rows": null,
      "grid_column": null,
      "grid_gap": null,
      "grid_row": null,
      "grid_template_areas": null,
      "grid_template_columns": null,
      "grid_template_rows": null,
      "height": null,
      "justify_content": null,
      "justify_items": null,
      "left": null,
      "margin": null,
      "max_height": null,
      "max_width": null,
      "min_height": null,
      "min_width": null,
      "object_fit": null,
      "object_position": null,
      "order": null,
      "overflow": null,
      "overflow_x": null,
      "overflow_y": null,
      "padding": null,
      "right": null,
      "top": null,
      "visibility": null,
      "width": null
     }
    },
    "bd50abef42af405a8be6cdf330de974b": {
     "model_module": "@jupyter-widgets/controls",
     "model_module_version": "1.5.0",
     "model_name": "HTMLModel",
     "state": {
      "_dom_classes": [],
      "_model_module": "@jupyter-widgets/controls",
      "_model_module_version": "1.5.0",
      "_model_name": "HTMLModel",
      "_view_count": null,
      "_view_module": "@jupyter-widgets/controls",
      "_view_module_version": "1.5.0",
      "_view_name": "HTMLView",
      "description": "",
      "description_tooltip": null,
      "layout": "IPY_MODEL_7d724864dcdd445f8ccf157420cc30b2",
      "placeholder": "​",
      "style": "IPY_MODEL_e7b5af9fa40b47b1b045b9d3a500b092",
      "value": " 28.0/28.0 [00:00&lt;00:00, 714B/s]"
     }
    },
    "bd6e539c77de46209ebbf162badea6f8": {
     "model_module": "@jupyter-widgets/controls",
     "model_module_version": "1.5.0",
     "model_name": "DescriptionStyleModel",
     "state": {
      "_model_module": "@jupyter-widgets/controls",
      "_model_module_version": "1.5.0",
      "_model_name": "DescriptionStyleModel",
      "_view_count": null,
      "_view_module": "@jupyter-widgets/base",
      "_view_module_version": "1.2.0",
      "_view_name": "StyleView",
      "description_width": ""
     }
    },
    "c49a3860fd7d49dab913ff13b645a423": {
     "model_module": "@jupyter-widgets/controls",
     "model_module_version": "1.5.0",
     "model_name": "DescriptionStyleModel",
     "state": {
      "_model_module": "@jupyter-widgets/controls",
      "_model_module_version": "1.5.0",
      "_model_name": "DescriptionStyleModel",
      "_view_count": null,
      "_view_module": "@jupyter-widgets/base",
      "_view_module_version": "1.2.0",
      "_view_name": "StyleView",
      "description_width": ""
     }
    },
    "cb77bb3bee3f42a0b88578b39fb4ab45": {
     "model_module": "@jupyter-widgets/controls",
     "model_module_version": "1.5.0",
     "model_name": "ProgressStyleModel",
     "state": {
      "_model_module": "@jupyter-widgets/controls",
      "_model_module_version": "1.5.0",
      "_model_name": "ProgressStyleModel",
      "_view_count": null,
      "_view_module": "@jupyter-widgets/base",
      "_view_module_version": "1.2.0",
      "_view_name": "StyleView",
      "bar_color": null,
      "description_width": ""
     }
    },
    "d83175905aef487ab87e49552f64ef97": {
     "model_module": "@jupyter-widgets/controls",
     "model_module_version": "1.5.0",
     "model_name": "HTMLModel",
     "state": {
      "_dom_classes": [],
      "_model_module": "@jupyter-widgets/controls",
      "_model_module_version": "1.5.0",
      "_model_name": "HTMLModel",
      "_view_count": null,
      "_view_module": "@jupyter-widgets/controls",
      "_view_module_version": "1.5.0",
      "_view_name": "HTMLView",
      "description": "",
      "description_tooltip": null,
      "layout": "IPY_MODEL_3f2c7f3e8cbd41b791b59ef8bdb60ce0",
      "placeholder": "​",
      "style": "IPY_MODEL_0e53f4a02c6b474a9f3dc81fb18af368",
      "value": "Downloading: 100%"
     }
    },
    "e274664ee79748f0af903d21a9590877": {
     "model_module": "@jupyter-widgets/controls",
     "model_module_version": "1.5.0",
     "model_name": "HTMLModel",
     "state": {
      "_dom_classes": [],
      "_model_module": "@jupyter-widgets/controls",
      "_model_module_version": "1.5.0",
      "_model_name": "HTMLModel",
      "_view_count": null,
      "_view_module": "@jupyter-widgets/controls",
      "_view_module_version": "1.5.0",
      "_view_name": "HTMLView",
      "description": "",
      "description_tooltip": null,
      "layout": "IPY_MODEL_50cc08f619d34d47a53e10330158120f",
      "placeholder": "​",
      "style": "IPY_MODEL_c49a3860fd7d49dab913ff13b645a423",
      "value": " 226k/226k [00:00&lt;00:00, 240kB/s]"
     }
    },
    "e306f5dae1a14e2fb3222df3b66251e1": {
     "model_module": "@jupyter-widgets/base",
     "model_module_version": "1.2.0",
     "model_name": "LayoutModel",
     "state": {
      "_model_module": "@jupyter-widgets/base",
      "_model_module_version": "1.2.0",
      "_model_name": "LayoutModel",
      "_view_count": null,
      "_view_module": "@jupyter-widgets/base",
      "_view_module_version": "1.2.0",
      "_view_name": "LayoutView",
      "align_content": null,
      "align_items": null,
      "align_self": null,
      "border": null,
      "bottom": null,
      "display": null,
      "flex": null,
      "flex_flow": null,
      "grid_area": null,
      "grid_auto_columns": null,
      "grid_auto_flow": null,
      "grid_auto_rows": null,
      "grid_column": null,
      "grid_gap": null,
      "grid_row": null,
      "grid_template_areas": null,
      "grid_template_columns": null,
      "grid_template_rows": null,
      "height": null,
      "justify_content": null,
      "justify_items": null,
      "left": null,
      "margin": null,
      "max_height": null,
      "max_width": null,
      "min_height": null,
      "min_width": null,
      "object_fit": null,
      "object_position": null,
      "order": null,
      "overflow": null,
      "overflow_x": null,
      "overflow_y": null,
      "padding": null,
      "right": null,
      "top": null,
      "visibility": null,
      "width": null
     }
    },
    "e760f3c9cd7a4f1095a74ab4f0dee64f": {
     "model_module": "@jupyter-widgets/controls",
     "model_module_version": "1.5.0",
     "model_name": "HTMLModel",
     "state": {
      "_dom_classes": [],
      "_model_module": "@jupyter-widgets/controls",
      "_model_module_version": "1.5.0",
      "_model_name": "HTMLModel",
      "_view_count": null,
      "_view_module": "@jupyter-widgets/controls",
      "_view_module_version": "1.5.0",
      "_view_name": "HTMLView",
      "description": "",
      "description_tooltip": null,
      "layout": "IPY_MODEL_fa7417cc791c4ec18eec97a3a76e51a8",
      "placeholder": "​",
      "style": "IPY_MODEL_5ca663a8bc1c40bab70722fb88e2fc13",
      "value": "Downloading: 100%"
     }
    },
    "e7b5af9fa40b47b1b045b9d3a500b092": {
     "model_module": "@jupyter-widgets/controls",
     "model_module_version": "1.5.0",
     "model_name": "DescriptionStyleModel",
     "state": {
      "_model_module": "@jupyter-widgets/controls",
      "_model_module_version": "1.5.0",
      "_model_name": "DescriptionStyleModel",
      "_view_count": null,
      "_view_module": "@jupyter-widgets/base",
      "_view_module_version": "1.2.0",
      "_view_name": "StyleView",
      "description_width": ""
     }
    },
    "f01e4b7606c849bb821cbcabf716a3b3": {
     "model_module": "@jupyter-widgets/base",
     "model_module_version": "1.2.0",
     "model_name": "LayoutModel",
     "state": {
      "_model_module": "@jupyter-widgets/base",
      "_model_module_version": "1.2.0",
      "_model_name": "LayoutModel",
      "_view_count": null,
      "_view_module": "@jupyter-widgets/base",
      "_view_module_version": "1.2.0",
      "_view_name": "LayoutView",
      "align_content": null,
      "align_items": null,
      "align_self": null,
      "border": null,
      "bottom": null,
      "display": null,
      "flex": null,
      "flex_flow": null,
      "grid_area": null,
      "grid_auto_columns": null,
      "grid_auto_flow": null,
      "grid_auto_rows": null,
      "grid_column": null,
      "grid_gap": null,
      "grid_row": null,
      "grid_template_areas": null,
      "grid_template_columns": null,
      "grid_template_rows": null,
      "height": null,
      "justify_content": null,
      "justify_items": null,
      "left": null,
      "margin": null,
      "max_height": null,
      "max_width": null,
      "min_height": null,
      "min_width": null,
      "object_fit": null,
      "object_position": null,
      "order": null,
      "overflow": null,
      "overflow_x": null,
      "overflow_y": null,
      "padding": null,
      "right": null,
      "top": null,
      "visibility": null,
      "width": null
     }
    },
    "f559265ef4784081909ef33ecf3cfda8": {
     "model_module": "@jupyter-widgets/controls",
     "model_module_version": "1.5.0",
     "model_name": "ProgressStyleModel",
     "state": {
      "_model_module": "@jupyter-widgets/controls",
      "_model_module_version": "1.5.0",
      "_model_name": "ProgressStyleModel",
      "_view_count": null,
      "_view_module": "@jupyter-widgets/base",
      "_view_module_version": "1.2.0",
      "_view_name": "StyleView",
      "bar_color": null,
      "description_width": ""
     }
    },
    "f81000a313234e28b4b7b5f3264a5c97": {
     "model_module": "@jupyter-widgets/base",
     "model_module_version": "1.2.0",
     "model_name": "LayoutModel",
     "state": {
      "_model_module": "@jupyter-widgets/base",
      "_model_module_version": "1.2.0",
      "_model_name": "LayoutModel",
      "_view_count": null,
      "_view_module": "@jupyter-widgets/base",
      "_view_module_version": "1.2.0",
      "_view_name": "LayoutView",
      "align_content": null,
      "align_items": null,
      "align_self": null,
      "border": null,
      "bottom": null,
      "display": null,
      "flex": null,
      "flex_flow": null,
      "grid_area": null,
      "grid_auto_columns": null,
      "grid_auto_flow": null,
      "grid_auto_rows": null,
      "grid_column": null,
      "grid_gap": null,
      "grid_row": null,
      "grid_template_areas": null,
      "grid_template_columns": null,
      "grid_template_rows": null,
      "height": null,
      "justify_content": null,
      "justify_items": null,
      "left": null,
      "margin": null,
      "max_height": null,
      "max_width": null,
      "min_height": null,
      "min_width": null,
      "object_fit": null,
      "object_position": null,
      "order": null,
      "overflow": null,
      "overflow_x": null,
      "overflow_y": null,
      "padding": null,
      "right": null,
      "top": null,
      "visibility": null,
      "width": null
     }
    },
    "fa0b4e9285e5499baccf70a4f63b148c": {
     "model_module": "@jupyter-widgets/controls",
     "model_module_version": "1.5.0",
     "model_name": "FloatProgressModel",
     "state": {
      "_dom_classes": [],
      "_model_module": "@jupyter-widgets/controls",
      "_model_module_version": "1.5.0",
      "_model_name": "FloatProgressModel",
      "_view_count": null,
      "_view_module": "@jupyter-widgets/controls",
      "_view_module_version": "1.5.0",
      "_view_name": "ProgressView",
      "bar_style": "success",
      "description": "",
      "description_tooltip": null,
      "layout": "IPY_MODEL_738dd8bcd165424cb9cdf929d8dfaded",
      "max": 483,
      "min": 0,
      "orientation": "horizontal",
      "style": "IPY_MODEL_5495d347b9d0407086039dad8724093c",
      "value": 483
     }
    },
    "fa7417cc791c4ec18eec97a3a76e51a8": {
     "model_module": "@jupyter-widgets/base",
     "model_module_version": "1.2.0",
     "model_name": "LayoutModel",
     "state": {
      "_model_module": "@jupyter-widgets/base",
      "_model_module_version": "1.2.0",
      "_model_name": "LayoutModel",
      "_view_count": null,
      "_view_module": "@jupyter-widgets/base",
      "_view_module_version": "1.2.0",
      "_view_name": "LayoutView",
      "align_content": null,
      "align_items": null,
      "align_self": null,
      "border": null,
      "bottom": null,
      "display": null,
      "flex": null,
      "flex_flow": null,
      "grid_area": null,
      "grid_auto_columns": null,
      "grid_auto_flow": null,
      "grid_auto_rows": null,
      "grid_column": null,
      "grid_gap": null,
      "grid_row": null,
      "grid_template_areas": null,
      "grid_template_columns": null,
      "grid_template_rows": null,
      "height": null,
      "justify_content": null,
      "justify_items": null,
      "left": null,
      "margin": null,
      "max_height": null,
      "max_width": null,
      "min_height": null,
      "min_width": null,
      "object_fit": null,
      "object_position": null,
      "order": null,
      "overflow": null,
      "overflow_x": null,
      "overflow_y": null,
      "padding": null,
      "right": null,
      "top": null,
      "visibility": null,
      "width": null
     }
    },
    "fcabf88012cf41bab4da3cd219ea6f42": {
     "model_module": "@jupyter-widgets/base",
     "model_module_version": "1.2.0",
     "model_name": "LayoutModel",
     "state": {
      "_model_module": "@jupyter-widgets/base",
      "_model_module_version": "1.2.0",
      "_model_name": "LayoutModel",
      "_view_count": null,
      "_view_module": "@jupyter-widgets/base",
      "_view_module_version": "1.2.0",
      "_view_name": "LayoutView",
      "align_content": null,
      "align_items": null,
      "align_self": null,
      "border": null,
      "bottom": null,
      "display": null,
      "flex": null,
      "flex_flow": null,
      "grid_area": null,
      "grid_auto_columns": null,
      "grid_auto_flow": null,
      "grid_auto_rows": null,
      "grid_column": null,
      "grid_gap": null,
      "grid_row": null,
      "grid_template_areas": null,
      "grid_template_columns": null,
      "grid_template_rows": null,
      "height": null,
      "justify_content": null,
      "justify_items": null,
      "left": null,
      "margin": null,
      "max_height": null,
      "max_width": null,
      "min_height": null,
      "min_width": null,
      "object_fit": null,
      "object_position": null,
      "order": null,
      "overflow": null,
      "overflow_x": null,
      "overflow_y": null,
      "padding": null,
      "right": null,
      "top": null,
      "visibility": null,
      "width": null
     }
    }
   }
  }
 },
 "nbformat": 4,
 "nbformat_minor": 5
}
